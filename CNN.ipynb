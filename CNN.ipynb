{
  "cells": [
    {
      "cell_type": "markdown",
      "metadata": {
        "id": "view-in-github",
        "colab_type": "text"
      },
      "source": [
        "<a href=\"https://colab.research.google.com/github/aofekiko/Cars196-E2E-CNN/blob/main/CNN.ipynb\" target=\"_parent\"><img src=\"https://colab.research.google.com/assets/colab-badge.svg\" alt=\"Open In Colab\"/></a>"
      ]
    },
    {
      "cell_type": "markdown",
      "metadata": {
        "id": "6-W8kOgHZUhz"
      },
      "source": [
        "# Cars196 E2E CNN"
      ]
    },
    {
      "cell_type": "markdown",
      "metadata": {
        "id": "S17rzhsdZem0"
      },
      "source": [
        "<img src=\"https://storage.googleapis.com/kaggle-competitions/kaggle/20733/logos/header.png?t=2020-05-14-08-44-45\">"
      ]
    },
    {
      "cell_type": "markdown",
      "metadata": {
        "id": "buJeccWRZX26"
      },
      "source": [
        "# Utils"
      ]
    },
    {
      "cell_type": "markdown",
      "metadata": {
        "id": "52FrgSEzQYWb"
      },
      "source": [
        "## Import Libraries"
      ]
    },
    {
      "cell_type": "code",
      "execution_count": null,
      "metadata": {
        "id": "DVQDuMr52due"
      },
      "outputs": [],
      "source": [
        "%%capture\n",
        "import numpy as np\n",
        "import matplotlib.pyplot as plt\n",
        "import pandas as pd\n",
        "import tensorflow as tf\n",
        "import tensorflow_datasets as tfds\n",
        "from keras.utils import load_img\n",
        "from keras.preprocessing import image\n",
        "!pip install -U --no-cache-dir gdown --pre\n",
        "!gdown --id 1DS_5kLbzYYzMWtp1WP3x_hxtRBhroJID\n",
        "!gdown --id 1Gr-a8q6ADgBvLnBNRZBmUYU9paMdnIQ8"
      ]
    },
    {
      "cell_type": "markdown",
      "metadata": {
        "id": "1hxROtsyjWPW"
      },
      "source": [
        "## Dataset\n",
        "Cars196 - 196 different classes of vehicles"
      ]
    },
    {
      "cell_type": "markdown",
      "metadata": {
        "id": "IlSkIXYtYQi_"
      },
      "source": [
        "### Download Data"
      ]
    },
    {
      "cell_type": "code",
      "execution_count": null,
      "metadata": {
        "id": "pOr9XYNO4QS1"
      },
      "outputs": [],
      "source": [
        "%%capture\n",
        "cars196 = tfds.load('Cars196', as_supervised=True, shuffle_files=True, with_info=True, data_dir=\".\")"
      ]
    },
    {
      "cell_type": "markdown",
      "metadata": {
        "id": "6LpjqcRTZ2gm"
      },
      "source": [
        "Dictionary of the labels - maps between the label (int) number and the vehicle model (str)"
      ]
    },
    {
      "cell_type": "code",
      "execution_count": null,
      "metadata": {
        "id": "wYeQz_hntvY2"
      },
      "outputs": [],
      "source": [
        "label_dic = pd.read_csv('labels_dic.csv', header=None, dtype={0: str}).set_index(0).squeeze().to_dict()"
      ]
    },
    {
      "cell_type": "markdown",
      "metadata": {
        "id": "UxFQGdYzYffQ"
      },
      "source": [
        "### Function - Plot Single Example\n",
        "This function receives an image and a label and it will display it on a plot"
      ]
    },
    {
      "cell_type": "code",
      "execution_count": null,
      "metadata": {
        "id": "zHABcIRJZOTC"
      },
      "outputs": [],
      "source": [
        "def plot_single_example(image, label, label_dic=label_dic):\n",
        "  car_model_by_label = label_dic[str(label)]\n",
        "  plt.title(f'Image Label: {car_model_by_label} ({label})')\n",
        "  plt.imshow(image)"
      ]
    },
    {
      "cell_type": "markdown",
      "metadata": {
        "id": "5trNlNNHawd6"
      },
      "source": [
        "# Data Preprocessing"
      ]
    },
    {
      "cell_type": "markdown",
      "metadata": {
        "id": "t6hlzURV498F"
      },
      "source": [
        "### Split Dataset\n",
        "Train set contains 14567 examples<br>\n",
        "Test set contains 1618 examples<br>\n",
        "**It is allowed to change the ratio between the data sets.**\n"
      ]
    },
    {
      "cell_type": "code",
      "execution_count": null,
      "metadata": {
        "colab": {
          "base_uri": "https://localhost:8080/"
        },
        "id": "HYsfRMHu5Ew8",
        "outputId": "dd7f0bc0-2d4a-412f-c227-35cc114c85e6"
      },
      "outputs": [
        {
          "output_type": "stream",
          "name": "stdout",
          "text": [
            "1618\n",
            "14567\n"
          ]
        }
      ],
      "source": [
        "\n",
        "\n",
        "[cars_train, cars_test] = tfds.load('Cars196',  split=[\"train[:90%]+test[:90%]\", \"train[90%:100%]+test[90%:100%]\"], as_supervised=True, shuffle_files=True, data_dir=\".\")\n",
        "print(len(cars_test))\n",
        "print(len(cars_train))"
      ]
    },
    {
      "cell_type": "markdown",
      "metadata": {
        "id": "SHCuGzL6HK_K"
      },
      "source": [
        "Resize the data"
      ]
    },
    {
      "cell_type": "code",
      "execution_count": null,
      "metadata": {
        "id": "EBtJDdIqCZxp"
      },
      "outputs": [],
      "source": [
        "height, width = 256, 256  # Inputs divisable by 16 or 8 for better tensor core efficiency (https://www.tensorflow.org/guide/gpu_performance_analysis#1_enable_mixed_precision)\n",
        "input_size = (height, width, 3)\n",
        "\n",
        "\n",
        "# Parallel mapping to get rid of the input performance bottleneck and improve training performance\n",
        "cars_train = cars_train.map(lambda x, y: (tf.image.resize_with_pad(x, height, width), y),num_parallel_calls=tf.data.AUTOTUNE)\n",
        "cars_test = cars_test.map(lambda x, y: (tf.image.resize_with_pad(x, height, width), y),num_parallel_calls=tf.data.AUTOTUNE)"
      ]
    },
    {
      "cell_type": "markdown",
      "source": [
        "Split dataset into batches of 64"
      ],
      "metadata": {
        "id": "jDbp09R2ysnC"
      }
    },
    {
      "cell_type": "code",
      "execution_count": null,
      "metadata": {
        "id": "S5X095JyZaGY"
      },
      "outputs": [],
      "source": [
        "batch_size = 64\n",
        "\n",
        "cars_train = cars_train.batch(batch_size, drop_remainder=True).prefetch(tf.data.AUTOTUNE)\n",
        "cars_test = cars_test.batch(batch_size, drop_remainder=True).prefetch(tf.data.AUTOTUNE)"
      ]
    },
    {
      "cell_type": "markdown",
      "source": [
        "# Model 1 - Base Model"
      ],
      "metadata": {
        "id": "b16W74BzQUdh"
      }
    },
    {
      "cell_type": "markdown",
      "source": [
        "## Define Model"
      ],
      "metadata": {
        "id": "pLiWQ8udtd00"
      }
    },
    {
      "cell_type": "code",
      "source": [
        "model = tf.keras.Sequential([\n",
        "        tf.keras.layers.Rescaling(1. / 255, input_shape=(height, width, 3)),\n",
        "        tf.keras.layers.Conv2D(32, 3, padding='same', activation='relu'),\n",
        "        tf.keras.layers.MaxPooling2D(),\n",
        "        tf.keras.layers.Conv2D(64, 3, padding='same', activation='relu'),\n",
        "        tf.keras.layers.MaxPooling2D(),\n",
        "        tf.keras.layers.Conv2D(128, 3, padding='same', activation='relu'),\n",
        "        tf.keras.layers.MaxPooling2D(),\n",
        "        tf.keras.layers.Conv2D(256, 3, padding='same', activation='relu'),\n",
        "        tf.keras.layers.MaxPooling2D(),\n",
        "        tf.keras.layers.Conv2D(256, 3, padding='same', activation='relu'),\n",
        "        tf.keras.layers.MaxPooling2D(),\n",
        "        tf.keras.layers.Conv2D(256, 3, padding='same', activation='relu'), \n",
        "        tf.keras.layers.MaxPooling2D(),\n",
        "        tf.keras.layers.Flatten(),\n",
        "        tf.keras.layers.Dense(196, activation='softmax', dtype='float32') \n",
        "    ])\n",
        "model.summary()"
      ],
      "metadata": {
        "colab": {
          "base_uri": "https://localhost:8080/"
        },
        "id": "7_it3j0tq-29",
        "outputId": "9b7e11d0-3b4e-4368-d4da-0405f36bd040"
      },
      "execution_count": null,
      "outputs": [
        {
          "output_type": "stream",
          "name": "stdout",
          "text": [
            "Model: \"sequential\"\n",
            "_________________________________________________________________\n",
            " Layer (type)                Output Shape              Param #   \n",
            "=================================================================\n",
            " rescaling (Rescaling)       (None, 256, 256, 3)       0         \n",
            "                                                                 \n",
            " conv2d (Conv2D)             (None, 256, 256, 32)      896       \n",
            "                                                                 \n",
            " max_pooling2d (MaxPooling2D  (None, 128, 128, 32)     0         \n",
            " )                                                               \n",
            "                                                                 \n",
            " conv2d_1 (Conv2D)           (None, 128, 128, 64)      18496     \n",
            "                                                                 \n",
            " max_pooling2d_1 (MaxPooling  (None, 64, 64, 64)       0         \n",
            " 2D)                                                             \n",
            "                                                                 \n",
            " conv2d_2 (Conv2D)           (None, 64, 64, 128)       73856     \n",
            "                                                                 \n",
            " max_pooling2d_2 (MaxPooling  (None, 32, 32, 128)      0         \n",
            " 2D)                                                             \n",
            "                                                                 \n",
            " conv2d_3 (Conv2D)           (None, 32, 32, 256)       295168    \n",
            "                                                                 \n",
            " max_pooling2d_3 (MaxPooling  (None, 16, 16, 256)      0         \n",
            " 2D)                                                             \n",
            "                                                                 \n",
            " conv2d_4 (Conv2D)           (None, 16, 16, 256)       590080    \n",
            "                                                                 \n",
            " max_pooling2d_4 (MaxPooling  (None, 8, 8, 256)        0         \n",
            " 2D)                                                             \n",
            "                                                                 \n",
            " conv2d_5 (Conv2D)           (None, 8, 8, 256)         590080    \n",
            "                                                                 \n",
            " max_pooling2d_5 (MaxPooling  (None, 4, 4, 256)        0         \n",
            " 2D)                                                             \n",
            "                                                                 \n",
            " flatten (Flatten)           (None, 4096)              0         \n",
            "                                                                 \n",
            " dense (Dense)               (None, 196)               803012    \n",
            "                                                                 \n",
            "=================================================================\n",
            "Total params: 2,371,588\n",
            "Trainable params: 2,371,588\n",
            "Non-trainable params: 0\n",
            "_________________________________________________________________\n"
          ]
        }
      ]
    },
    {
      "cell_type": "markdown",
      "source": [
        "## Compile & Train"
      ],
      "metadata": {
        "id": "Hz-xCft4tg8f"
      }
    },
    {
      "cell_type": "code",
      "execution_count": null,
      "metadata": {
        "colab": {
          "base_uri": "https://localhost:8080/"
        },
        "outputId": "bc10c2c9-529a-4eb1-d759-8fa9b1d68ced",
        "id": "bUnEkkrIrW__"
      },
      "outputs": [
        {
          "output_type": "stream",
          "name": "stdout",
          "text": [
            "Epoch 1/500\n",
            "227/227 [==============================] - 30s 108ms/step - loss: 5.2716 - accuracy: 0.0066 - val_loss: 5.2315 - val_accuracy: 0.0088\n",
            "Epoch 2/500\n",
            "227/227 [==============================] - 24s 107ms/step - loss: 5.1527 - accuracy: 0.0132 - val_loss: 5.0723 - val_accuracy: 0.0188\n",
            "Epoch 3/500\n",
            "227/227 [==============================] - 24s 107ms/step - loss: 5.0322 - accuracy: 0.0206 - val_loss: 5.0538 - val_accuracy: 0.0200\n",
            "Epoch 4/500\n",
            "227/227 [==============================] - 24s 105ms/step - loss: 4.9295 - accuracy: 0.0281 - val_loss: 5.0141 - val_accuracy: 0.0194\n",
            "Epoch 5/500\n",
            "227/227 [==============================] - 24s 106ms/step - loss: 4.7986 - accuracy: 0.0416 - val_loss: 4.9801 - val_accuracy: 0.0262\n",
            "Epoch 6/500\n",
            "227/227 [==============================] - 24s 106ms/step - loss: 4.6294 - accuracy: 0.0604 - val_loss: 5.0711 - val_accuracy: 0.0338\n",
            "Epoch 7/500\n",
            "227/227 [==============================] - 24s 106ms/step - loss: 4.4391 - accuracy: 0.0821 - val_loss: 5.3756 - val_accuracy: 0.0388\n",
            "Epoch 8/500\n",
            "227/227 [==============================] - 25s 108ms/step - loss: 4.2146 - accuracy: 0.1115 - val_loss: 5.7515 - val_accuracy: 0.0325\n",
            "Epoch 9/500\n",
            "227/227 [==============================] - 24s 106ms/step - loss: 3.9549 - accuracy: 0.1494 - val_loss: 5.9971 - val_accuracy: 0.0338\n",
            "Epoch 10/500\n",
            "227/227 [==============================] - 24s 105ms/step - loss: 3.6890 - accuracy: 0.1940 - val_loss: 6.0984 - val_accuracy: 0.0413\n",
            "Epoch 11/500\n",
            "227/227 [==============================] - 25s 108ms/step - loss: 3.4493 - accuracy: 0.2330 - val_loss: 7.2216 - val_accuracy: 0.0381\n",
            "Epoch 12/500\n",
            "227/227 [==============================] - 24s 106ms/step - loss: 3.1302 - accuracy: 0.2914 - val_loss: 8.7770 - val_accuracy: 0.0319\n",
            "Epoch 13/500\n",
            "227/227 [==============================] - 24s 104ms/step - loss: 2.9576 - accuracy: 0.3154 - val_loss: 8.3023 - val_accuracy: 0.0419\n",
            "Epoch 14/500\n",
            "227/227 [==============================] - 25s 110ms/step - loss: 2.8058 - accuracy: 0.3436 - val_loss: 8.5323 - val_accuracy: 0.0388\n",
            "Epoch 15/500\n",
            "227/227 [==============================] - 24s 107ms/step - loss: 2.5267 - accuracy: 0.4080 - val_loss: 9.7045 - val_accuracy: 0.0369\n",
            "Epoch 16/500\n",
            "227/227 [==============================] - 24s 106ms/step - loss: 2.2854 - accuracy: 0.4582 - val_loss: 11.3653 - val_accuracy: 0.0400\n",
            "Epoch 17/500\n",
            "227/227 [==============================] - 24s 106ms/step - loss: 2.1326 - accuracy: 0.4869 - val_loss: 12.6537 - val_accuracy: 0.0312\n",
            "Epoch 18/500\n",
            "227/227 [==============================] - 24s 106ms/step - loss: 2.0060 - accuracy: 0.5142 - val_loss: 14.1325 - val_accuracy: 0.0437\n",
            "Epoch 19/500\n",
            "227/227 [==============================] - 24s 106ms/step - loss: 1.9277 - accuracy: 0.5263 - val_loss: 15.5089 - val_accuracy: 0.0369\n",
            "Epoch 20/500\n",
            "227/227 [==============================] - 24s 105ms/step - loss: 1.7415 - accuracy: 0.5674 - val_loss: 14.7415 - val_accuracy: 0.0406\n",
            "Epoch 21/500\n",
            "227/227 [==============================] - 24s 106ms/step - loss: 1.6512 - accuracy: 0.5868 - val_loss: 14.0644 - val_accuracy: 0.0425\n",
            "Epoch 22/500\n",
            "227/227 [==============================] - 24s 104ms/step - loss: 1.4068 - accuracy: 0.6416 - val_loss: 13.4325 - val_accuracy: 0.0413\n",
            "Epoch 23/500\n",
            "227/227 [==============================] - 24s 104ms/step - loss: 1.2844 - accuracy: 0.6704 - val_loss: 15.5064 - val_accuracy: 0.0325\n",
            "Epoch 24/500\n",
            "227/227 [==============================] - 24s 105ms/step - loss: 1.1275 - accuracy: 0.7090 - val_loss: 16.5353 - val_accuracy: 0.0381\n",
            "Epoch 25/500\n",
            "227/227 [==============================] - 24s 104ms/step - loss: 1.0806 - accuracy: 0.7198 - val_loss: 16.7296 - val_accuracy: 0.0425\n",
            "Epoch 26/500\n",
            "227/227 [==============================] - 24s 105ms/step - loss: 0.9650 - accuracy: 0.7488 - val_loss: 17.4217 - val_accuracy: 0.0456\n",
            "Epoch 27/500\n",
            "227/227 [==============================] - 24s 104ms/step - loss: 0.9040 - accuracy: 0.7597 - val_loss: 17.7561 - val_accuracy: 0.0400\n",
            "Epoch 28/500\n",
            "227/227 [==============================] - 24s 106ms/step - loss: 0.8898 - accuracy: 0.7618 - val_loss: 17.9325 - val_accuracy: 0.0431\n",
            "Epoch 29/500\n",
            "227/227 [==============================] - 24s 106ms/step - loss: 0.7470 - accuracy: 0.8005 - val_loss: 18.4545 - val_accuracy: 0.0469\n",
            "Epoch 30/500\n",
            "227/227 [==============================] - 24s 105ms/step - loss: 0.8086 - accuracy: 0.7830 - val_loss: 18.5306 - val_accuracy: 0.0356\n",
            "Epoch 31/500\n",
            "227/227 [==============================] - 24s 106ms/step - loss: 0.6683 - accuracy: 0.8193 - val_loss: 19.9153 - val_accuracy: 0.0413\n",
            "Epoch 32/500\n",
            "227/227 [==============================] - 24s 106ms/step - loss: 0.6514 - accuracy: 0.8245 - val_loss: 20.0840 - val_accuracy: 0.0531\n",
            "Epoch 33/500\n",
            "227/227 [==============================] - 24s 106ms/step - loss: 0.5201 - accuracy: 0.8603 - val_loss: 20.9483 - val_accuracy: 0.0413\n",
            "Epoch 34/500\n",
            "227/227 [==============================] - 24s 104ms/step - loss: 0.5166 - accuracy: 0.8582 - val_loss: 23.4857 - val_accuracy: 0.0406\n",
            "Epoch 35/500\n",
            "227/227 [==============================] - 24s 107ms/step - loss: 0.5200 - accuracy: 0.8528 - val_loss: 24.1333 - val_accuracy: 0.0463\n"
          ]
        }
      ],
      "source": [
        "earlystop_callback = tf.keras.callbacks.EarlyStopping(monitor='val_loss', patience=30) # start_from_epoch=50 Missing feature in ts2.10, available in ts2.11+ # High patience for overfitting analysis\n",
        "\n",
        "\n",
        "cp_callback = tf.keras.callbacks.ModelCheckpoint(\n",
        "       filepath='./weights/cp-{epoch:04d}.ckpt',\n",
        "        save_weights_only=True,\n",
        "        save_freq='epoch')\n",
        "\n",
        "#Sparse is better than normal cross entropy for training performance https://stats.stackexchange.com/questions/326065/cross-entropy-vs-sparse-cross-entropy-when-to-use-one-over-the-other\n",
        "model.compile(optimizer=tf.keras.optimizers.Adam(),loss='sparse_categorical_crossentropy' ,metrics=['accuracy']) \n",
        "\n",
        "history = model.fit(x = cars_train, validation_data = cars_test, epochs = 500, callbacks=[earlystop_callback, cp_callback], batch_size=batch_size, verbose=1)"
      ]
    },
    {
      "cell_type": "markdown",
      "source": [
        "## Visualize Loss & Accuracy"
      ],
      "metadata": {
        "id": "ggWFwnWCuLJf"
      }
    },
    {
      "cell_type": "code",
      "source": [
        "from matplotlib import pyplot as plt\n",
        "plt.plot(history.history['loss'])\n",
        "plt.plot(history.history['val_loss'])\n",
        "plt.title('model loss')\n",
        "plt.ylabel('loss')\n",
        "plt.xlabel('epoch')\n",
        "plt.legend(['train', 'val'], loc='upper left')\n",
        "plt.show()\n",
        "plt.plot(history.history['accuracy'])\n",
        "plt.plot(history.history['val_accuracy'])\n",
        "plt.title('model accuracy')\n",
        "plt.ylabel('accuracy')\n",
        "plt.xlabel('epoch')\n",
        "plt.legend(['train', 'val'], loc='upper left')\n",
        "plt.show()"
      ],
      "metadata": {
        "colab": {
          "base_uri": "https://localhost:8080/",
          "height": 927
        },
        "outputId": "c7edaf55-0f52-4870-c3b3-760e0f0aa23c",
        "id": "_dAr02n3uLJj"
      },
      "execution_count": null,
      "outputs": [
        {
          "output_type": "display_data",
          "data": {
            "text/plain": [
              "<Figure size 640x480 with 1 Axes>"
            ],
            "image/png": "[encoded data removed]"
          },
          "metadata": {}
        },
        {
          "output_type": "display_data",
          "data": {
            "text/plain": [
              "<Figure size 640x480 with 1 Axes>"
            ],
            "image/png": "[encoded data removed]"
          },
          "metadata": {}
        }
      ]
    },
    {
      "cell_type": "markdown",
      "source": [
        "## Overall Model Results"
      ],
      "metadata": {
        "id": "SxJ86VDouLJj"
      }
    },
    {
      "cell_type": "code",
      "source": [
        "from sklearn.metrics import accuracy_score, classification_report\n",
        "\n",
        "y_hat = model.predict(cars_test, verbose=1)\n",
        "predicted_class_indices= tf.argmax(y_hat, axis=1).numpy()\n",
        "cars_test_labels = np.concatenate([y for x, y in cars_test], axis=0)\n",
        "print(predicted_class_indices)\n",
        "print(cars_test_labels)\n",
        "print(\"Model accuracy:\", accuracy_score(cars_test_labels, predicted_class_indices))\n",
        "print(\"Classification Report\")\n",
        "print(classification_report(cars_test_labels, predicted_class_indices))"
      ],
      "metadata": {
        "colab": {
          "base_uri": "https://localhost:8080/"
        },
        "id": "j3dau9XxuLJk",
        "outputId": "9a609cb2-8735-4178-e669-db00ba3fae9a"
      },
      "execution_count": null,
      "outputs": [
        {
          "output_type": "stream",
          "name": "stdout",
          "text": [
            "25/25 [==============================] - 1s 43ms/step\n",
            "[  6  85 154 ... 104 166 128]\n",
            "[ 51  75  89 ...  57 172 184]\n",
            "Model accuracy: 0.006875\n",
            "Classification Report\n",
            "              precision    recall  f1-score   support\n",
            "\n",
            "           0       0.00      0.00      0.00        10\n",
            "           1       0.00      0.00      0.00         8\n",
            "           2       0.00      0.00      0.00         6\n",
            "           3       0.00      0.00      0.00         9\n",
            "           4       0.00      0.00      0.00         3\n",
            "           5       0.00      0.00      0.00         7\n",
            "           6       0.00      0.00      0.00         6\n",
            "           7       0.00      0.00      0.00        10\n",
            "           8       0.00      0.00      0.00        11\n",
            "           9       0.00      0.00      0.00         5\n",
            "          10       0.00      0.00      0.00        15\n",
            "          11       0.00      0.00      0.00         8\n",
            "          12       0.00      0.00      0.00         5\n",
            "          13       0.00      0.00      0.00        13\n",
            "          14       0.05      0.09      0.06        11\n",
            "          15       0.06      0.11      0.08         9\n",
            "          16       0.00      0.00      0.00         9\n",
            "          17       0.00      0.00      0.00         8\n",
            "          18       0.00      0.00      0.00         9\n",
            "          19       0.00      0.00      0.00        11\n",
            "          20       0.00      0.00      0.00        12\n",
            "          21       0.00      0.00      0.00        12\n",
            "          22       0.00      0.00      0.00         7\n",
            "          23       0.00      0.00      0.00        11\n",
            "          24       0.00      0.00      0.00         5\n",
            "          25       0.00      0.00      0.00         6\n",
            "          26       0.00      0.00      0.00         5\n",
            "          27       0.00      0.00      0.00        11\n",
            "          28       0.08      0.11      0.10         9\n",
            "          29       0.00      0.00      0.00         9\n",
            "          30       0.00      0.00      0.00        10\n",
            "          31       0.00      0.00      0.00         9\n",
            "          32       0.00      0.00      0.00        11\n",
            "          33       0.07      0.10      0.08        10\n",
            "          34       0.00      0.00      0.00         9\n",
            "          35       0.00      0.00      0.00         4\n",
            "          36       0.00      0.00      0.00         6\n",
            "          37       0.00      0.00      0.00         9\n",
            "          38       0.00      0.00      0.00         7\n",
            "          39       0.00      0.00      0.00         8\n",
            "          40       0.00      0.00      0.00         7\n",
            "          41       0.00      0.00      0.00         5\n",
            "          42       0.11      0.08      0.10        12\n",
            "          43       0.00      0.00      0.00        11\n",
            "          44       0.00      0.00      0.00         6\n",
            "          45       0.00      0.00      0.00        13\n",
            "          46       0.00      0.00      0.00        11\n",
            "          47       0.00      0.00      0.00         9\n",
            "          48       0.00      0.00      0.00        10\n",
            "          49       0.00      0.00      0.00         5\n",
            "          50       0.00      0.00      0.00         8\n",
            "          51       0.00      0.00      0.00         7\n",
            "          52       0.00      0.00      0.00         9\n",
            "          53       0.00      0.00      0.00         7\n",
            "          54       0.00      0.00      0.00         9\n",
            "          55       0.00      0.00      0.00         8\n",
            "          56       0.00      0.00      0.00        10\n",
            "          57       0.00      0.00      0.00        11\n",
            "          58       0.00      0.00      0.00         6\n",
            "          59       0.00      0.00      0.00         8\n",
            "          60       0.00      0.00      0.00        12\n",
            "          61       0.00      0.00      0.00         7\n",
            "          62       0.00      0.00      0.00         8\n",
            "          63       0.00      0.00      0.00         9\n",
            "          64       0.00      0.00      0.00        10\n",
            "          65       0.00      0.00      0.00         8\n",
            "          66       0.00      0.00      0.00         8\n",
            "          67       0.00      0.00      0.00         9\n",
            "          68       0.00      0.00      0.00         5\n",
            "          69       0.00      0.00      0.00         8\n",
            "          70       0.00      0.00      0.00         9\n",
            "          71       0.00      0.00      0.00        11\n",
            "          72       0.00      0.00      0.00         9\n",
            "          73       0.00      0.00      0.00         7\n",
            "          74       0.00      0.00      0.00         8\n",
            "          75       0.00      0.00      0.00        12\n",
            "          76       0.00      0.00      0.00        10\n",
            "          77       0.00      0.00      0.00         8\n",
            "          78       0.00      0.00      0.00        14\n",
            "          79       0.00      0.00      0.00         8\n",
            "          80       0.00      0.00      0.00        11\n",
            "          81       0.08      0.09      0.09        11\n",
            "          82       0.00      0.00      0.00         6\n",
            "          83       0.00      0.00      0.00        10\n",
            "          84       0.00      0.00      0.00         9\n",
            "          85       0.00      0.00      0.00         7\n",
            "          86       0.00      0.00      0.00         7\n",
            "          87       0.00      0.00      0.00         8\n",
            "          88       0.00      0.00      0.00         5\n",
            "          89       0.00      0.00      0.00         9\n",
            "          90       0.00      0.00      0.00         9\n",
            "          91       0.00      0.00      0.00         9\n",
            "          92       0.00      0.00      0.00         4\n",
            "          93       0.00      0.00      0.00        10\n",
            "          94       0.00      0.00      0.00        11\n",
            "          95       0.00      0.00      0.00        10\n",
            "          96       0.00      0.00      0.00         1\n",
            "          97       0.00      0.00      0.00        11\n",
            "          98       0.00      0.00      0.00         6\n",
            "          99       0.00      0.00      0.00         5\n",
            "         100       0.00      0.00      0.00         7\n",
            "         101       0.05      0.20      0.07        10\n",
            "         102       0.00      0.00      0.00         8\n",
            "         103       0.00      0.00      0.00        11\n",
            "         104       0.00      0.00      0.00         7\n",
            "         105       0.00      0.00      0.00         7\n",
            "         106       0.00      0.00      0.00        13\n",
            "         107       0.00      0.00      0.00         8\n",
            "         108       0.00      0.00      0.00         7\n",
            "         109       0.00      0.00      0.00         7\n",
            "         110       0.00      0.00      0.00         8\n",
            "         111       0.00      0.00      0.00         8\n",
            "         112       0.00      0.00      0.00        10\n",
            "         113       0.00      0.00      0.00         6\n",
            "         114       0.00      0.00      0.00         6\n",
            "         115       0.00      0.00      0.00         5\n",
            "         116       0.00      0.00      0.00         8\n",
            "         117       0.00      0.00      0.00        13\n",
            "         118       0.00      0.00      0.00        14\n",
            "         119       0.00      0.00      0.00         9\n",
            "         120       0.00      0.00      0.00        11\n",
            "         121       0.00      0.00      0.00         6\n",
            "         122       0.00      0.00      0.00        12\n",
            "         123       0.00      0.00      0.00         7\n",
            "         124       0.00      0.00      0.00         8\n",
            "         125       0.00      0.00      0.00         5\n",
            "         126       0.00      0.00      0.00         5\n",
            "         127       0.00      0.00      0.00         8\n",
            "         128       0.11      0.14      0.12         7\n",
            "         129       0.00      0.00      0.00         6\n",
            "         130       0.00      0.00      0.00         9\n",
            "         131       0.00      0.00      0.00        14\n",
            "         132       0.00      0.00      0.00         7\n",
            "         133       0.00      0.00      0.00         6\n",
            "         134       0.00      0.00      0.00        10\n",
            "         135       0.00      0.00      0.00         3\n",
            "         136       0.00      0.00      0.00         7\n",
            "         137       0.00      0.00      0.00         1\n",
            "         138       0.00      0.00      0.00        11\n",
            "         139       0.10      0.25      0.14         4\n",
            "         140       0.00      0.00      0.00         8\n",
            "         141       0.00      0.00      0.00         6\n",
            "         142       0.00      0.00      0.00         4\n",
            "         143       0.00      0.00      0.00         6\n",
            "         144       0.00      0.00      0.00         7\n",
            "         145       0.00      0.00      0.00        10\n",
            "         146       0.00      0.00      0.00         9\n",
            "         147       0.00      0.00      0.00         3\n",
            "         148       0.00      0.00      0.00         7\n",
            "         149       0.00      0.00      0.00         5\n",
            "         150       0.06      0.20      0.09         5\n",
            "         151       0.00      0.00      0.00         9\n",
            "         152       0.00      0.00      0.00         8\n",
            "         153       0.00      0.00      0.00        11\n",
            "         154       0.00      0.00      0.00         8\n",
            "         155       0.00      0.00      0.00        10\n",
            "         156       0.00      0.00      0.00        12\n",
            "         157       0.00      0.00      0.00         7\n",
            "         158       0.00      0.00      0.00         4\n",
            "         159       0.00      0.00      0.00         9\n",
            "         160       0.00      0.00      0.00         7\n",
            "         161       0.00      0.00      0.00         9\n",
            "         162       0.00      0.00      0.00         5\n",
            "         163       0.00      0.00      0.00         7\n",
            "         164       0.00      0.00      0.00        10\n",
            "         165       0.00      0.00      0.00        11\n",
            "         166       0.00      0.00      0.00        13\n",
            "         167       0.00      0.00      0.00         7\n",
            "         168       0.00      0.00      0.00         4\n",
            "         169       0.00      0.00      0.00         9\n",
            "         170       0.00      0.00      0.00        10\n",
            "         171       0.00      0.00      0.00         7\n",
            "         172       0.00      0.00      0.00         9\n",
            "         173       0.00      0.00      0.00         9\n",
            "         174       0.00      0.00      0.00         4\n",
            "         175       0.00      0.00      0.00         8\n",
            "         176       0.00      0.00      0.00         8\n",
            "         177       0.00      0.00      0.00         5\n",
            "         178       0.00      0.00      0.00         9\n",
            "         179       0.00      0.00      0.00         4\n",
            "         180       0.00      0.00      0.00         5\n",
            "         181       0.00      0.00      0.00         6\n",
            "         182       0.00      0.00      0.00         3\n",
            "         183       0.00      0.00      0.00         8\n",
            "         184       0.00      0.00      0.00         8\n",
            "         185       0.00      0.00      0.00         3\n",
            "         186       0.00      0.00      0.00         8\n",
            "         187       0.00      0.00      0.00        11\n",
            "         188       0.00      0.00      0.00         9\n",
            "         189       0.00      0.00      0.00         9\n",
            "         190       0.00      0.00      0.00        11\n",
            "         191       0.00      0.00      0.00         7\n",
            "         192       0.00      0.00      0.00         5\n",
            "         193       0.00      0.00      0.00        13\n",
            "         194       0.00      0.00      0.00        11\n",
            "         195       0.00      0.00      0.00         7\n",
            "\n",
            "    accuracy                           0.01      1600\n",
            "   macro avg       0.00      0.01      0.00      1600\n",
            "weighted avg       0.00      0.01      0.00      1600\n",
            "\n"
          ]
        },
        {
          "output_type": "stream",
          "name": "stderr",
          "text": [
            "c:\\users\\aofek\\appdata\\local\\programs\\python\\python37\\lib\\site-packages\\sklearn\\metrics\\_classification.py:1318: UndefinedMetricWarning: Precision and F-score are ill-defined and being set to 0.0 in labels with no predicted samples. Use `zero_division` parameter to control this behavior.\n",
            "  _warn_prf(average, modifier, msg_start, len(result))\n",
            "c:\\users\\aofek\\appdata\\local\\programs\\python\\python37\\lib\\site-packages\\sklearn\\metrics\\_classification.py:1318: UndefinedMetricWarning: Precision and F-score are ill-defined and being set to 0.0 in labels with no predicted samples. Use `zero_division` parameter to control this behavior.\n",
            "  _warn_prf(average, modifier, msg_start, len(result))\n",
            "c:\\users\\aofek\\appdata\\local\\programs\\python\\python37\\lib\\site-packages\\sklearn\\metrics\\_classification.py:1318: UndefinedMetricWarning: Precision and F-score are ill-defined and being set to 0.0 in labels with no predicted samples. Use `zero_division` parameter to control this behavior.\n",
            "  _warn_prf(average, modifier, msg_start, len(result))\n"
          ]
        }
      ]
    },
    {
      "cell_type": "markdown",
      "source": [
        "# Model 2 - Augmentations"
      ],
      "metadata": {
        "id": "5sqCQCeeslZx"
      }
    },
    {
      "cell_type": "markdown",
      "source": [
        "## Define Model"
      ],
      "metadata": {
        "id": "-FJZfEb7tmCu"
      }
    },
    {
      "cell_type": "code",
      "source": [
        "model = tf.keras.Sequential([\n",
        "        tf.keras.layers.Rescaling(1. / 255, input_shape=(height, width, 3)),\n",
        "        tf.keras.layers.RandomFlip(\"horizontal\"), \n",
        "        tf.keras.layers.RandomRotation(0.2), \n",
        "        tf.keras.layers.RandomContrast(0.2), \n",
        "        tf.keras.layers.Conv2D(32, 3, padding='same', activation='relu'),\n",
        "        tf.keras.layers.MaxPooling2D(),\n",
        "        tf.keras.layers.Conv2D(64, 3, padding='same', activation='relu'),\n",
        "        tf.keras.layers.MaxPooling2D(),\n",
        "        tf.keras.layers.Conv2D(128, 3, padding='same', activation='relu'),\n",
        "        tf.keras.layers.MaxPooling2D(),\n",
        "        tf.keras.layers.Conv2D(256, 3, padding='same', activation='relu'),\n",
        "        tf.keras.layers.MaxPooling2D(),\n",
        "        tf.keras.layers.Conv2D(256, 3, padding='same', activation='relu'),\n",
        "        tf.keras.layers.MaxPooling2D(),\n",
        "        tf.keras.layers.Conv2D(256, 3, padding='same', activation='relu'), \n",
        "        tf.keras.layers.MaxPooling2D(),\n",
        "        tf.keras.layers.Flatten(),\n",
        "        tf.keras.layers.Dense(196, activation='softmax', dtype='float32') \n",
        "    ])\n",
        "model.summary()"
      ],
      "metadata": {
        "colab": {
          "base_uri": "https://localhost:8080/"
        },
        "outputId": "2c9cc685-5739-43c4-b3ba-78d6b89378ec",
        "id": "FHEWjjJRslZ2"
      },
      "execution_count": null,
      "outputs": [
        {
          "output_type": "stream",
          "name": "stdout",
          "text": [
            "Model: \"sequential_1\"\n",
            "_________________________________________________________________\n",
            " Layer (type)                Output Shape              Param #   \n",
            "=================================================================\n",
            " rescaling_1 (Rescaling)     (None, 256, 256, 3)       0         \n",
            "                                                                 \n",
            " random_flip (RandomFlip)    (None, 256, 256, 3)       0         \n",
            "                                                                 \n",
            " random_rotation (RandomRota  (None, 256, 256, 3)      0         \n",
            " tion)                                                           \n",
            "                                                                 \n",
            " random_contrast (RandomCont  (None, 256, 256, 3)      0         \n",
            " rast)                                                           \n",
            "                                                                 \n",
            " conv2d_6 (Conv2D)           (None, 256, 256, 32)      896       \n",
            "                                                                 \n",
            " max_pooling2d_6 (MaxPooling  (None, 128, 128, 32)     0         \n",
            " 2D)                                                             \n",
            "                                                                 \n",
            " conv2d_7 (Conv2D)           (None, 128, 128, 64)      18496     \n",
            "                                                                 \n",
            " max_pooling2d_7 (MaxPooling  (None, 64, 64, 64)       0         \n",
            " 2D)                                                             \n",
            "                                                                 \n",
            " conv2d_8 (Conv2D)           (None, 64, 64, 128)       73856     \n",
            "                                                                 \n",
            " max_pooling2d_8 (MaxPooling  (None, 32, 32, 128)      0         \n",
            " 2D)                                                             \n",
            "                                                                 \n",
            " conv2d_9 (Conv2D)           (None, 32, 32, 256)       295168    \n",
            "                                                                 \n",
            " max_pooling2d_9 (MaxPooling  (None, 16, 16, 256)      0         \n",
            " 2D)                                                             \n",
            "                                                                 \n",
            " conv2d_10 (Conv2D)          (None, 16, 16, 256)       590080    \n",
            "                                                                 \n",
            " max_pooling2d_10 (MaxPoolin  (None, 8, 8, 256)        0         \n",
            " g2D)                                                            \n",
            "                                                                 \n",
            " conv2d_11 (Conv2D)          (None, 8, 8, 256)         590080    \n",
            "                                                                 \n",
            " max_pooling2d_11 (MaxPoolin  (None, 4, 4, 256)        0         \n",
            " g2D)                                                            \n",
            "                                                                 \n",
            " flatten_1 (Flatten)         (None, 4096)              0         \n",
            "                                                                 \n",
            " dense_1 (Dense)             (None, 196)               803012    \n",
            "                                                                 \n",
            "=================================================================\n",
            "Total params: 2,371,588\n",
            "Trainable params: 2,371,588\n",
            "Non-trainable params: 0\n",
            "_________________________________________________________________\n"
          ]
        }
      ]
    },
    {
      "cell_type": "markdown",
      "source": [
        "## Compile & Train"
      ],
      "metadata": {
        "id": "CjiUqRV9tpCX"
      }
    },
    {
      "cell_type": "code",
      "execution_count": null,
      "metadata": {
        "colab": {
          "base_uri": "https://localhost:8080/"
        },
        "outputId": "7ac20c0a-4186-473a-81a3-00d6445a9d7e",
        "id": "txOQ1Qb2slZ2"
      },
      "outputs": [
        {
          "output_type": "stream",
          "name": "stdout",
          "text": [
            "Epoch 1/500\n",
            "227/227 [==============================] - 130s 564ms/step - loss: 5.2224 - accuracy: 0.0089 - val_loss: 5.1459 - val_accuracy: 0.0144\n",
            "Epoch 2/500\n",
            "227/227 [==============================] - 128s 566ms/step - loss: 5.1455 - accuracy: 0.0122 - val_loss: 5.1123 - val_accuracy: 0.0156\n",
            "Epoch 3/500\n",
            "227/227 [==============================] - 130s 573ms/step - loss: 5.0840 - accuracy: 0.0169 - val_loss: 5.0880 - val_accuracy: 0.0200\n",
            "Epoch 4/500\n",
            "227/227 [==============================] - 130s 571ms/step - loss: 5.0376 - accuracy: 0.0207 - val_loss: 5.0626 - val_accuracy: 0.0181\n",
            "Epoch 5/500\n",
            "227/227 [==============================] - 130s 573ms/step - loss: 4.9767 - accuracy: 0.0253 - val_loss: 5.0657 - val_accuracy: 0.0256\n",
            "Epoch 6/500\n",
            "227/227 [==============================] - 129s 567ms/step - loss: 4.9282 - accuracy: 0.0307 - val_loss: 5.0290 - val_accuracy: 0.0244\n",
            "Epoch 7/500\n",
            "227/227 [==============================] - 128s 566ms/step - loss: 4.8568 - accuracy: 0.0372 - val_loss: 4.9229 - val_accuracy: 0.0344\n",
            "Epoch 8/500\n",
            "227/227 [==============================] - 129s 566ms/step - loss: 4.7777 - accuracy: 0.0458 - val_loss: 4.8864 - val_accuracy: 0.0388\n",
            "Epoch 9/500\n",
            "227/227 [==============================] - 128s 566ms/step - loss: 4.7037 - accuracy: 0.0545 - val_loss: 4.8503 - val_accuracy: 0.0481\n",
            "Epoch 10/500\n",
            "227/227 [==============================] - 128s 565ms/step - loss: 4.6240 - accuracy: 0.0617 - val_loss: 4.8856 - val_accuracy: 0.0425\n",
            "Epoch 11/500\n",
            "227/227 [==============================] - 129s 569ms/step - loss: 4.5563 - accuracy: 0.0695 - val_loss: 4.9010 - val_accuracy: 0.0481\n",
            "Epoch 12/500\n",
            "227/227 [==============================] - 128s 563ms/step - loss: 4.4871 - accuracy: 0.0770 - val_loss: 4.8772 - val_accuracy: 0.0475\n",
            "Epoch 13/500\n",
            "227/227 [==============================] - 130s 572ms/step - loss: 4.3866 - accuracy: 0.0923 - val_loss: 4.8359 - val_accuracy: 0.0494\n",
            "Epoch 14/500\n",
            "227/227 [==============================] - 129s 569ms/step - loss: 4.3120 - accuracy: 0.1004 - val_loss: 4.8147 - val_accuracy: 0.0575\n",
            "Epoch 15/500\n",
            "227/227 [==============================] - 127s 561ms/step - loss: 4.2460 - accuracy: 0.1105 - val_loss: 4.8989 - val_accuracy: 0.0512\n",
            "Epoch 16/500\n",
            "227/227 [==============================] - 129s 568ms/step - loss: 4.1475 - accuracy: 0.1203 - val_loss: 4.8468 - val_accuracy: 0.0544\n",
            "Epoch 17/500\n",
            "227/227 [==============================] - 130s 573ms/step - loss: 4.0919 - accuracy: 0.1304 - val_loss: 4.8611 - val_accuracy: 0.0575\n",
            "Epoch 18/500\n",
            "227/227 [==============================] - 128s 566ms/step - loss: 4.0372 - accuracy: 0.1359 - val_loss: 4.8095 - val_accuracy: 0.0700\n",
            "Epoch 19/500\n",
            "227/227 [==============================] - 128s 565ms/step - loss: 3.9649 - accuracy: 0.1487 - val_loss: 4.8125 - val_accuracy: 0.0587\n",
            "Epoch 20/500\n",
            "227/227 [==============================] - 128s 566ms/step - loss: 3.9087 - accuracy: 0.1534 - val_loss: 4.8340 - val_accuracy: 0.0656\n",
            "Epoch 21/500\n",
            "227/227 [==============================] - 129s 570ms/step - loss: 3.8581 - accuracy: 0.1613 - val_loss: 4.8539 - val_accuracy: 0.0594\n",
            "Epoch 22/500\n",
            "227/227 [==============================] - 129s 567ms/step - loss: 3.7917 - accuracy: 0.1701 - val_loss: 4.8681 - val_accuracy: 0.0631\n",
            "Epoch 23/500\n",
            "227/227 [==============================] - 128s 565ms/step - loss: 3.7725 - accuracy: 0.1760 - val_loss: 4.9172 - val_accuracy: 0.0719\n",
            "Epoch 24/500\n",
            "227/227 [==============================] - 129s 569ms/step - loss: 3.6723 - accuracy: 0.1863 - val_loss: 4.9042 - val_accuracy: 0.0688\n",
            "Epoch 25/500\n",
            "227/227 [==============================] - 130s 575ms/step - loss: 3.6082 - accuracy: 0.2006 - val_loss: 4.9140 - val_accuracy: 0.0750\n",
            "Epoch 26/500\n",
            "227/227 [==============================] - 130s 571ms/step - loss: 3.5353 - accuracy: 0.2126 - val_loss: 4.9719 - val_accuracy: 0.0688\n",
            "Epoch 27/500\n",
            "227/227 [==============================] - 131s 575ms/step - loss: 3.5105 - accuracy: 0.2189 - val_loss: 4.9346 - val_accuracy: 0.0856\n",
            "Epoch 28/500\n",
            "227/227 [==============================] - 129s 570ms/step - loss: 3.4906 - accuracy: 0.2223 - val_loss: 4.9701 - val_accuracy: 0.0756\n",
            "Epoch 29/500\n",
            "227/227 [==============================] - 128s 564ms/step - loss: 3.4124 - accuracy: 0.2344 - val_loss: 5.0829 - val_accuracy: 0.0856\n",
            "Epoch 30/500\n",
            "227/227 [==============================] - 128s 563ms/step - loss: 3.4347 - accuracy: 0.2291 - val_loss: 4.9916 - val_accuracy: 0.0825\n",
            "Epoch 31/500\n",
            "227/227 [==============================] - 130s 572ms/step - loss: 3.3482 - accuracy: 0.2464 - val_loss: 5.1391 - val_accuracy: 0.0856\n",
            "Epoch 32/500\n",
            "227/227 [==============================] - 128s 564ms/step - loss: 3.3407 - accuracy: 0.2470 - val_loss: 4.9893 - val_accuracy: 0.0850\n",
            "Epoch 33/500\n",
            "227/227 [==============================] - 130s 573ms/step - loss: 3.2937 - accuracy: 0.2475 - val_loss: 5.0715 - val_accuracy: 0.0887\n",
            "Epoch 34/500\n",
            "227/227 [==============================] - 130s 571ms/step - loss: 3.2474 - accuracy: 0.2597 - val_loss: 5.0688 - val_accuracy: 0.0763\n",
            "Epoch 35/500\n",
            "227/227 [==============================] - 130s 572ms/step - loss: 3.1709 - accuracy: 0.2731 - val_loss: 5.1522 - val_accuracy: 0.0812\n",
            "Epoch 36/500\n",
            "227/227 [==============================] - 131s 576ms/step - loss: 3.1513 - accuracy: 0.2755 - val_loss: 5.0610 - val_accuracy: 0.0906\n",
            "Epoch 37/500\n",
            "227/227 [==============================] - 130s 571ms/step - loss: 3.0704 - accuracy: 0.2946 - val_loss: 5.1673 - val_accuracy: 0.0887\n",
            "Epoch 38/500\n",
            "227/227 [==============================] - 129s 567ms/step - loss: 3.0747 - accuracy: 0.2917 - val_loss: 5.2150 - val_accuracy: 0.0881\n",
            "Epoch 39/500\n",
            "227/227 [==============================] - 129s 567ms/step - loss: 3.0752 - accuracy: 0.2865 - val_loss: 5.2127 - val_accuracy: 0.0850\n",
            "Epoch 40/500\n",
            "227/227 [==============================] - 128s 565ms/step - loss: 2.9985 - accuracy: 0.3064 - val_loss: 5.3131 - val_accuracy: 0.0887\n",
            "Epoch 41/500\n",
            "227/227 [==============================] - 129s 568ms/step - loss: 2.9798 - accuracy: 0.3058 - val_loss: 5.2603 - val_accuracy: 0.0919\n",
            "Epoch 42/500\n",
            "227/227 [==============================] - 129s 569ms/step - loss: 2.9573 - accuracy: 0.3112 - val_loss: 5.3393 - val_accuracy: 0.0844\n",
            "Epoch 43/500\n",
            "227/227 [==============================] - 130s 574ms/step - loss: 2.8871 - accuracy: 0.3264 - val_loss: 5.2665 - val_accuracy: 0.0906\n",
            "Epoch 44/500\n",
            "227/227 [==============================] - 129s 568ms/step - loss: 2.8832 - accuracy: 0.3242 - val_loss: 5.3066 - val_accuracy: 0.0900\n",
            "Epoch 45/500\n",
            "227/227 [==============================] - 129s 568ms/step - loss: 2.8528 - accuracy: 0.3313 - val_loss: 5.2876 - val_accuracy: 0.0956\n",
            "Epoch 46/500\n",
            "227/227 [==============================] - 129s 569ms/step - loss: 2.8458 - accuracy: 0.3287 - val_loss: 5.3138 - val_accuracy: 0.0869\n",
            "Epoch 47/500\n",
            "227/227 [==============================] - 129s 569ms/step - loss: 2.7954 - accuracy: 0.3402 - val_loss: 5.2933 - val_accuracy: 0.0825\n",
            "Epoch 48/500\n",
            "227/227 [==============================] - 129s 568ms/step - loss: 2.7424 - accuracy: 0.3550 - val_loss: 5.3446 - val_accuracy: 0.0775\n"
          ]
        }
      ],
      "source": [
        "earlystop_callback = tf.keras.callbacks.EarlyStopping(monitor='val_loss', patience=30) # start_from_epoch=50 Missing feature in ts2.10, available in ts2.11+ # High patience for overfitting analysis\n",
        "\n",
        "\n",
        "cp_callback = tf.keras.callbacks.ModelCheckpoint(\n",
        "       filepath='./weights/cp-{epoch:04d}.ckpt',\n",
        "        save_weights_only=True,\n",
        "        save_freq='epoch')\n",
        "\n",
        "#Sparse is better than normal cross entropy for training performance https://stats.stackexchange.com/questions/326065/cross-entropy-vs-sparse-cross-entropy-when-to-use-one-over-the-other\n",
        "model.compile(optimizer=tf.keras.optimizers.Adam(),loss='sparse_categorical_crossentropy' ,metrics=['accuracy']) \n",
        "\n",
        "history = model.fit(x = cars_train, validation_data = cars_test, epochs = 500, callbacks=[earlystop_callback, cp_callback], batch_size=batch_size, verbose=1)"
      ]
    },
    {
      "cell_type": "markdown",
      "source": [
        "## Visualize Loss & Accuracy"
      ],
      "metadata": {
        "id": "5eEGU3MzuMOV"
      }
    },
    {
      "cell_type": "code",
      "source": [
        "from matplotlib import pyplot as plt\n",
        "plt.plot(history.history['loss'])\n",
        "plt.plot(history.history['val_loss'])\n",
        "plt.title('model loss')\n",
        "plt.ylabel('loss')\n",
        "plt.xlabel('epoch')\n",
        "plt.legend(['train', 'val'], loc='upper left')\n",
        "plt.show()\n",
        "plt.plot(history.history['accuracy'])\n",
        "plt.plot(history.history['val_accuracy'])\n",
        "plt.title('model accuracy')\n",
        "plt.ylabel('accuracy')\n",
        "plt.xlabel('epoch')\n",
        "plt.legend(['train', 'val'], loc='upper left')\n",
        "plt.show()"
      ],
      "metadata": {
        "colab": {
          "base_uri": "https://localhost:8080/",
          "height": 927
        },
        "outputId": "dc346e1d-3686-4465-8e06-99648d5f6228",
        "id": "FbCHQ3pYuMOV"
      },
      "execution_count": null,
      "outputs": [
        {
          "output_type": "display_data",
          "data": {
            "text/plain": [
              "<Figure size 640x480 with 1 Axes>"
            ],
            "image/png": "[encoded data removed]"
          },
          "metadata": {}
        },
        {
          "output_type": "display_data",
          "data": {
            "text/plain": [
              "<Figure size 640x480 with 1 Axes>"
            ],
            "image/png": "[encoded data removed]"
          },
          "metadata": {}
        }
      ]
    },
    {
      "cell_type": "markdown",
      "source": [
        "## Overall Model Results"
      ],
      "metadata": {
        "id": "XI7pPQJiuMOV"
      }
    },
    {
      "cell_type": "code",
      "source": [
        "from sklearn.metrics import accuracy_score, classification_report\n",
        "\n",
        "y_hat = model.predict(cars_test, verbose=1)\n",
        "predicted_class_indices= tf.argmax(y_hat, axis=1).numpy()\n",
        "cars_test_labels = np.concatenate([y for x, y in cars_test], axis=0)\n",
        "print(\"Model accuracy:\", accuracy_score(cars_test_labels, predicted_class_indices))\n",
        "print(\"Classification Report\")\n",
        "print(classification_report(cars_test_labels, predicted_class_indices))"
      ],
      "metadata": {
        "colab": {
          "base_uri": "https://localhost:8080/"
        },
        "id": "-6_7VNafuMOV",
        "outputId": "0c9cb52d-8041-4e3f-b1b5-4863e0e7ab1e"
      },
      "execution_count": null,
      "outputs": [
        {
          "output_type": "stream",
          "name": "stdout",
          "text": [
            "25/25 [==============================] - 1s 37ms/step\n",
            "Model accuracy: 0.008125\n",
            "Classification Report\n",
            "              precision    recall  f1-score   support\n",
            "\n",
            "           0       0.00      0.00      0.00        10\n",
            "           1       0.04      0.12      0.06         8\n",
            "           2       0.00      0.00      0.00         6\n",
            "           3       0.00      0.00      0.00         9\n",
            "           4       0.00      0.00      0.00         3\n",
            "           5       0.00      0.00      0.00         7\n",
            "           6       0.08      0.17      0.11         6\n",
            "           7       0.00      0.00      0.00        10\n",
            "           8       0.00      0.00      0.00        11\n",
            "           9       0.00      0.00      0.00         5\n",
            "          10       0.00      0.00      0.00        15\n",
            "          11       0.00      0.00      0.00         8\n",
            "          12       0.00      0.00      0.00         5\n",
            "          13       0.00      0.00      0.00        13\n",
            "          14       0.00      0.00      0.00        11\n",
            "          15       0.00      0.00      0.00         9\n",
            "          16       0.14      0.11      0.12         9\n",
            "          17       0.00      0.00      0.00         8\n",
            "          18       0.00      0.00      0.00         9\n",
            "          19       0.00      0.00      0.00        11\n",
            "          20       0.00      0.00      0.00        12\n",
            "          21       0.00      0.00      0.00        12\n",
            "          22       0.03      0.14      0.05         7\n",
            "          23       0.00      0.00      0.00        11\n",
            "          24       0.00      0.00      0.00         5\n",
            "          25       0.00      0.00      0.00         6\n",
            "          26       0.00      0.00      0.00         5\n",
            "          27       0.00      0.00      0.00        11\n",
            "          28       0.00      0.00      0.00         9\n",
            "          29       0.00      0.00      0.00         9\n",
            "          30       0.00      0.00      0.00        10\n",
            "          31       0.00      0.00      0.00         9\n",
            "          32       0.00      0.00      0.00        11\n",
            "          33       0.00      0.00      0.00        10\n",
            "          34       0.00      0.00      0.00         9\n",
            "          35       0.00      0.00      0.00         4\n",
            "          36       0.00      0.00      0.00         6\n",
            "          37       0.00      0.00      0.00         9\n",
            "          38       0.00      0.00      0.00         7\n",
            "          39       0.00      0.00      0.00         8\n",
            "          40       0.00      0.00      0.00         7\n",
            "          41       0.00      0.00      0.00         5\n",
            "          42       0.00      0.00      0.00        12\n",
            "          43       0.00      0.00      0.00        11\n",
            "          44       0.00      0.00      0.00         6\n",
            "          45       0.00      0.00      0.00        13\n",
            "          46       0.00      0.00      0.00        11\n",
            "          47       0.00      0.00      0.00         9\n",
            "          48       0.00      0.00      0.00        10\n",
            "          49       0.00      0.00      0.00         5\n",
            "          50       0.00      0.00      0.00         8\n",
            "          51       0.33      0.14      0.20         7\n",
            "          52       0.00      0.00      0.00         9\n",
            "          53       0.00      0.00      0.00         7\n",
            "          54       0.00      0.00      0.00         9\n",
            "          55       0.00      0.00      0.00         8\n",
            "          56       0.00      0.00      0.00        10\n",
            "          57       0.00      0.00      0.00        10\n",
            "          58       0.00      0.00      0.00         6\n",
            "          59       0.00      0.00      0.00         8\n",
            "          60       0.00      0.00      0.00        12\n",
            "          61       0.00      0.00      0.00         7\n",
            "          62       0.00      0.00      0.00         8\n",
            "          63       0.00      0.00      0.00         9\n",
            "          64       0.00      0.00      0.00        10\n",
            "          65       0.00      0.00      0.00         8\n",
            "          66       0.00      0.00      0.00         8\n",
            "          67       0.00      0.00      0.00         9\n",
            "          68       0.00      0.00      0.00         5\n",
            "          69       0.00      0.00      0.00         8\n",
            "          70       0.00      0.00      0.00         9\n",
            "          71       0.00      0.00      0.00        11\n",
            "          72       0.00      0.00      0.00         9\n",
            "          73       0.00      0.00      0.00         7\n",
            "          74       0.00      0.00      0.00         8\n",
            "          75       0.00      0.00      0.00        12\n",
            "          76       0.00      0.00      0.00        10\n",
            "          77       0.00      0.00      0.00         8\n",
            "          78       0.00      0.00      0.00        14\n",
            "          79       0.00      0.00      0.00         8\n",
            "          80       0.00      0.00      0.00        11\n",
            "          81       0.00      0.00      0.00        11\n",
            "          82       0.00      0.00      0.00         6\n",
            "          83       0.00      0.00      0.00        10\n",
            "          84       0.11      0.11      0.11         9\n",
            "          85       0.00      0.00      0.00         7\n",
            "          86       0.00      0.00      0.00         7\n",
            "          87       0.00      0.00      0.00         8\n",
            "          88       0.12      0.20      0.15         5\n",
            "          89       0.00      0.00      0.00         9\n",
            "          90       0.00      0.00      0.00         9\n",
            "          91       0.00      0.00      0.00         9\n",
            "          92       0.00      0.00      0.00         4\n",
            "          93       0.00      0.00      0.00        10\n",
            "          94       0.00      0.00      0.00        11\n",
            "          95       0.00      0.00      0.00        10\n",
            "          96       0.00      0.00      0.00         1\n",
            "          97       0.00      0.00      0.00        11\n",
            "          98       0.00      0.00      0.00         6\n",
            "          99       0.00      0.00      0.00         5\n",
            "         100       0.00      0.00      0.00         7\n",
            "         101       0.20      0.10      0.13        10\n",
            "         102       0.00      0.00      0.00         8\n",
            "         103       0.00      0.00      0.00        11\n",
            "         104       0.00      0.00      0.00         7\n",
            "         105       0.00      0.00      0.00         7\n",
            "         106       0.00      0.00      0.00        13\n",
            "         107       0.00      0.00      0.00         8\n",
            "         108       0.00      0.00      0.00         7\n",
            "         109       0.00      0.00      0.00         7\n",
            "         110       0.00      0.00      0.00         8\n",
            "         111       0.00      0.00      0.00         8\n",
            "         112       0.00      0.00      0.00        10\n",
            "         113       0.00      0.00      0.00         7\n",
            "         114       0.33      0.17      0.22         6\n",
            "         115       0.00      0.00      0.00         5\n",
            "         116       0.00      0.00      0.00         8\n",
            "         117       0.50      0.08      0.13        13\n",
            "         118       0.00      0.00      0.00        15\n",
            "         119       0.00      0.00      0.00         9\n",
            "         120       0.00      0.00      0.00        11\n",
            "         121       0.00      0.00      0.00         7\n",
            "         122       0.00      0.00      0.00        12\n",
            "         123       0.00      0.00      0.00         7\n",
            "         124       0.00      0.00      0.00         8\n",
            "         125       0.00      0.00      0.00         5\n",
            "         126       0.00      0.00      0.00         5\n",
            "         127       0.00      0.00      0.00         8\n",
            "         128       0.00      0.00      0.00         7\n",
            "         129       0.00      0.00      0.00         6\n",
            "         130       0.00      0.00      0.00         9\n",
            "         131       0.00      0.00      0.00        14\n",
            "         132       0.00      0.00      0.00         7\n",
            "         133       0.00      0.00      0.00         6\n",
            "         134       0.00      0.00      0.00        10\n",
            "         135       0.00      0.00      0.00         3\n",
            "         136       0.00      0.00      0.00         7\n",
            "         137       0.00      0.00      0.00         1\n",
            "         138       0.00      0.00      0.00        11\n",
            "         139       0.00      0.00      0.00         4\n",
            "         140       0.00      0.00      0.00         8\n",
            "         141       0.00      0.00      0.00         6\n",
            "         142       0.00      0.00      0.00         4\n",
            "         143       0.00      0.00      0.00         6\n",
            "         144       0.00      0.00      0.00         7\n",
            "         145       0.00      0.00      0.00        10\n",
            "         146       0.09      0.11      0.10         9\n",
            "         147       0.00      0.00      0.00         3\n",
            "         148       0.00      0.00      0.00         7\n",
            "         149       0.00      0.00      0.00         5\n",
            "         150       0.00      0.00      0.00         5\n",
            "         151       0.00      0.00      0.00         9\n",
            "         152       0.00      0.00      0.00         8\n",
            "         153       0.00      0.00      0.00        11\n",
            "         154       0.00      0.00      0.00         8\n",
            "         155       0.00      0.00      0.00        10\n",
            "         156       0.00      0.00      0.00        12\n",
            "         157       0.00      0.00      0.00         7\n",
            "         158       0.00      0.00      0.00         4\n",
            "         159       0.00      0.00      0.00         9\n",
            "         160       0.00      0.00      0.00         7\n",
            "         161       0.00      0.00      0.00         9\n",
            "         162       0.00      0.00      0.00         5\n",
            "         163       0.12      0.29      0.17         7\n",
            "         164       0.00      0.00      0.00        10\n",
            "         165       0.00      0.00      0.00        11\n",
            "         166       0.00      0.00      0.00        13\n",
            "         167       0.00      0.00      0.00         7\n",
            "         168       0.00      0.00      0.00         4\n",
            "         169       0.00      0.00      0.00         9\n",
            "         170       0.00      0.00      0.00        10\n",
            "         171       0.00      0.00      0.00         7\n",
            "         172       0.00      0.00      0.00         8\n",
            "         173       0.00      0.00      0.00         9\n",
            "         174       0.00      0.00      0.00         4\n",
            "         175       0.00      0.00      0.00         8\n",
            "         176       0.00      0.00      0.00         8\n",
            "         177       0.00      0.00      0.00         5\n",
            "         178       0.00      0.00      0.00         9\n",
            "         179       0.00      0.00      0.00         4\n",
            "         180       0.00      0.00      0.00         5\n",
            "         181       0.00      0.00      0.00         6\n",
            "         182       0.00      0.00      0.00         3\n",
            "         183       0.00      0.00      0.00         8\n",
            "         184       0.00      0.00      0.00         7\n",
            "         185       0.00      0.00      0.00         3\n",
            "         186       0.00      0.00      0.00         8\n",
            "         187       0.00      0.00      0.00        11\n",
            "         188       0.00      0.00      0.00         9\n",
            "         189       0.00      0.00      0.00         9\n",
            "         190       0.00      0.00      0.00        11\n",
            "         191       0.00      0.00      0.00         7\n",
            "         192       0.00      0.00      0.00         5\n",
            "         193       0.00      0.00      0.00        13\n",
            "         194       0.00      0.00      0.00        11\n",
            "         195       0.00      0.00      0.00         7\n",
            "\n",
            "    accuracy                           0.01      1600\n",
            "   macro avg       0.01      0.01      0.01      1600\n",
            "weighted avg       0.01      0.01      0.01      1600\n",
            "\n"
          ]
        },
        {
          "output_type": "stream",
          "name": "stderr",
          "text": [
            "c:\\users\\aofek\\appdata\\local\\programs\\python\\python37\\lib\\site-packages\\sklearn\\metrics\\_classification.py:1318: UndefinedMetricWarning: Precision and F-score are ill-defined and being set to 0.0 in labels with no predicted samples. Use `zero_division` parameter to control this behavior.\n",
            "  _warn_prf(average, modifier, msg_start, len(result))\n",
            "c:\\users\\aofek\\appdata\\local\\programs\\python\\python37\\lib\\site-packages\\sklearn\\metrics\\_classification.py:1318: UndefinedMetricWarning: Precision and F-score are ill-defined and being set to 0.0 in labels with no predicted samples. Use `zero_division` parameter to control this behavior.\n",
            "  _warn_prf(average, modifier, msg_start, len(result))\n",
            "c:\\users\\aofek\\appdata\\local\\programs\\python\\python37\\lib\\site-packages\\sklearn\\metrics\\_classification.py:1318: UndefinedMetricWarning: Precision and F-score are ill-defined and being set to 0.0 in labels with no predicted samples. Use `zero_division` parameter to control this behavior.\n",
            "  _warn_prf(average, modifier, msg_start, len(result))\n"
          ]
        }
      ]
    },
    {
      "cell_type": "markdown",
      "source": [
        "# Part 3 - Model overfitting mitigation"
      ],
      "metadata": {
        "id": "jUZFM6e2rLzd"
      }
    },
    {
      "cell_type": "markdown",
      "source": [
        "## Define Model"
      ],
      "metadata": {
        "id": "z1DwXUTXLspu"
      }
    },
    {
      "cell_type": "code",
      "execution_count": null,
      "metadata": {
        "colab": {
          "base_uri": "https://localhost:8080/"
        },
        "id": "Lzkhuxmi_6gY",
        "outputId": "6548542c-c0d4-4a95-bb23-e2081a182fe7"
      },
      "outputs": [
        {
          "output_type": "stream",
          "name": "stdout",
          "text": [
            "Model: \"sequential_2\"\n",
            "_________________________________________________________________\n",
            " Layer (type)                Output Shape              Param #   \n",
            "=================================================================\n",
            " rescaling_2 (Rescaling)     (None, 256, 256, 3)       0         \n",
            "                                                                 \n",
            " random_flip_1 (RandomFlip)  (None, 256, 256, 3)       0         \n",
            "                                                                 \n",
            " random_rotation_1 (RandomRo  (None, 256, 256, 3)      0         \n",
            " tation)                                                         \n",
            "                                                                 \n",
            " random_contrast_1 (RandomCo  (None, 256, 256, 3)      0         \n",
            " ntrast)                                                         \n",
            "                                                                 \n",
            " conv2d_12 (Conv2D)          (None, 256, 256, 32)      896       \n",
            "                                                                 \n",
            " batch_normalization (BatchN  (None, 256, 256, 32)     128       \n",
            " ormalization)                                                   \n",
            "                                                                 \n",
            " max_pooling2d_12 (MaxPoolin  (None, 128, 128, 32)     0         \n",
            " g2D)                                                            \n",
            "                                                                 \n",
            " conv2d_13 (Conv2D)          (None, 128, 128, 64)      18496     \n",
            "                                                                 \n",
            " batch_normalization_1 (Batc  (None, 128, 128, 64)     256       \n",
            " hNormalization)                                                 \n",
            "                                                                 \n",
            " max_pooling2d_13 (MaxPoolin  (None, 64, 64, 64)       0         \n",
            " g2D)                                                            \n",
            "                                                                 \n",
            " conv2d_14 (Conv2D)          (None, 64, 64, 128)       73856     \n",
            "                                                                 \n",
            " batch_normalization_2 (Batc  (None, 64, 64, 128)      512       \n",
            " hNormalization)                                                 \n",
            "                                                                 \n",
            " max_pooling2d_14 (MaxPoolin  (None, 32, 32, 128)      0         \n",
            " g2D)                                                            \n",
            "                                                                 \n",
            " conv2d_15 (Conv2D)          (None, 32, 32, 256)       295168    \n",
            "                                                                 \n",
            " batch_normalization_3 (Batc  (None, 32, 32, 256)      1024      \n",
            " hNormalization)                                                 \n",
            "                                                                 \n",
            " max_pooling2d_15 (MaxPoolin  (None, 16, 16, 256)      0         \n",
            " g2D)                                                            \n",
            "                                                                 \n",
            " conv2d_16 (Conv2D)          (None, 16, 16, 256)       590080    \n",
            "                                                                 \n",
            " batch_normalization_4 (Batc  (None, 16, 16, 256)      1024      \n",
            " hNormalization)                                                 \n",
            "                                                                 \n",
            " max_pooling2d_16 (MaxPoolin  (None, 8, 8, 256)        0         \n",
            " g2D)                                                            \n",
            "                                                                 \n",
            " conv2d_17 (Conv2D)          (None, 8, 8, 256)         590080    \n",
            "                                                                 \n",
            " batch_normalization_5 (Batc  (None, 8, 8, 256)        1024      \n",
            " hNormalization)                                                 \n",
            "                                                                 \n",
            " max_pooling2d_17 (MaxPoolin  (None, 4, 4, 256)        0         \n",
            " g2D)                                                            \n",
            "                                                                 \n",
            " flatten_2 (Flatten)         (None, 4096)              0         \n",
            "                                                                 \n",
            " dropout (Dropout)           (None, 4096)              0         \n",
            "                                                                 \n",
            " dense_2 (Dense)             (None, 196)               803012    \n",
            "                                                                 \n",
            "=================================================================\n",
            "Total params: 2,375,556\n",
            "Trainable params: 2,373,572\n",
            "Non-trainable params: 1,984\n",
            "_________________________________________________________________\n"
          ]
        }
      ],
      "source": [
        "\n",
        "# Mixed precision for better performance (https://www.tensorflow.org/guide/mixed_precision)\n",
        "tf.keras.mixed_precision.set_global_policy('mixed_float16')\n",
        "\n",
        "model = tf.keras.Sequential([\n",
        "        tf.keras.layers.Rescaling(1. / 255, input_shape=(height, width, 3)),\n",
        "        tf.keras.layers.RandomFlip(\"horizontal\"), \n",
        "        tf.keras.layers.RandomRotation(0.2), \n",
        "        tf.keras.layers.RandomContrast(0.2), \n",
        "        tf.keras.layers.Conv2D(32, 3, padding='same', activation='relu'),\n",
        "        tf.keras.layers.BatchNormalization(),\n",
        "        tf.keras.layers.MaxPooling2D(),\n",
        "        tf.keras.layers.Conv2D(64, 3, padding='same', activation='relu'),\n",
        "        tf.keras.layers.BatchNormalization(),\n",
        "        tf.keras.layers.MaxPooling2D(),\n",
        "        tf.keras.layers.Conv2D(128, 3, padding='same', activation='relu'),\n",
        "        tf.keras.layers.BatchNormalization(),\n",
        "        tf.keras.layers.MaxPooling2D(),\n",
        "        tf.keras.layers.Conv2D(256, 3, padding='same', activation='relu'),\n",
        "        tf.keras.layers.BatchNormalization(),\n",
        "        tf.keras.layers.MaxPooling2D(),\n",
        "        tf.keras.layers.Conv2D(256, 3, padding='same', activation='relu'),\n",
        "        tf.keras.layers.BatchNormalization(),\n",
        "        tf.keras.layers.MaxPooling2D(),\n",
        "        tf.keras.layers.Conv2D(256, 3, padding='same', activation='relu'), \n",
        "        tf.keras.layers.BatchNormalization(),\n",
        "        tf.keras.layers.MaxPooling2D(),\n",
        "        tf.keras.layers.Flatten(),\n",
        "        tf.keras.layers.Dropout(0.5), \n",
        "        tf.keras.layers.Dense(196, activation='softmax', dtype='float32') # Force datatype to be 32 due to enabling mixed precision (Nvidia AXP)\n",
        "    ])\n",
        "model.summary()"
      ]
    },
    {
      "cell_type": "markdown",
      "source": [
        "Define logging for tensorboard, used for GPU performance profiling and comparing the results of multiple models"
      ],
      "metadata": {
        "id": "dCdY9MLYzgYZ"
      }
    },
    {
      "cell_type": "code",
      "execution_count": null,
      "metadata": {
        "id": "dFWOMyaHkUX5"
      },
      "outputs": [],
      "source": [
        "\n",
        "\n",
        "from datetime import datetime\n",
        "from packaging import version\n",
        "\n",
        "import os\n",
        "\n",
        "run_name=\"Final\"\n",
        "\n",
        "logs = \"logs/\" + run_name + datetime.now().strftime(\"%Y%m%d-%H%M%S\")\n",
        "\n",
        "tboard_callback = tf.keras.callbacks.TensorBoard(log_dir = logs) # profile_batch=(64,128) Used to profile GPU optimization\n",
        "\n",
        "#tf.config.optimizer.set_jit(True) enables auto-clustering XLA for better training performance https://www.tensorflow.org/xla#auto-clustering\n",
        "#print(tf.config.optimizer.get_jit())\n",
        "# Doesnt work on my local PC (TF 2.10 on windows incompatability)"
      ]
    },
    {
      "cell_type": "markdown",
      "source": [
        "## Compile & Train"
      ],
      "metadata": {
        "id": "K4e87Vd_L1sM"
      }
    },
    {
      "cell_type": "code",
      "execution_count": null,
      "metadata": {
        "id": "_PeVzteONGJK",
        "colab": {
          "base_uri": "https://localhost:8080/"
        },
        "outputId": "2d5f7f3b-d3d8-4fb2-df7d-3bcd2930c147"
      },
      "outputs": [
        {
          "output_type": "stream",
          "name": "stdout",
          "text": [
            "Epoch 1/500\n",
            "227/227 [==============================] - 133s 566ms/step - loss: 7.5634 - accuracy: 0.0092 - val_loss: 6.0270 - val_accuracy: 0.0081\n",
            "Epoch 2/500\n",
            "227/227 [==============================] - 144s 632ms/step - loss: 7.1845 - accuracy: 0.0172 - val_loss: 10.5600 - val_accuracy: 0.0137\n",
            "Epoch 3/500\n",
            "227/227 [==============================] - 137s 604ms/step - loss: 6.8944 - accuracy: 0.0199 - val_loss: 5.2219 - val_accuracy: 0.0262\n",
            "Epoch 4/500\n",
            "227/227 [==============================] - 126s 554ms/step - loss: 6.6632 - accuracy: 0.0246 - val_loss: 5.8935 - val_accuracy: 0.0406\n",
            "Epoch 5/500\n",
            "227/227 [==============================] - 127s 558ms/step - loss: 6.4016 - accuracy: 0.0312 - val_loss: 7.8559 - val_accuracy: 0.0206\n",
            "Epoch 6/500\n",
            "227/227 [==============================] - 136s 598ms/step - loss: 6.0504 - accuracy: 0.0400 - val_loss: 5.8983 - val_accuracy: 0.0194\n",
            "Epoch 7/500\n",
            "227/227 [==============================] - 135s 595ms/step - loss: 5.7316 - accuracy: 0.0447 - val_loss: 5.1179 - val_accuracy: 0.0356\n",
            "Epoch 8/500\n",
            "227/227 [==============================] - 136s 600ms/step - loss: 5.5318 - accuracy: 0.0527 - val_loss: 5.6571 - val_accuracy: 0.0237\n",
            "Epoch 9/500\n",
            "227/227 [==============================] - 133s 587ms/step - loss: 5.1994 - accuracy: 0.0629 - val_loss: 7.1771 - val_accuracy: 0.0469\n",
            "Epoch 10/500\n",
            "227/227 [==============================] - 128s 565ms/step - loss: 4.9910 - accuracy: 0.0739 - val_loss: 6.0146 - val_accuracy: 0.0681\n",
            "Epoch 11/500\n",
            "227/227 [==============================] - 128s 565ms/step - loss: 4.7351 - accuracy: 0.0815 - val_loss: 5.5530 - val_accuracy: 0.0400\n",
            "Epoch 12/500\n",
            "227/227 [==============================] - 126s 557ms/step - loss: 4.5666 - accuracy: 0.0922 - val_loss: 5.3773 - val_accuracy: 0.0512\n",
            "Epoch 13/500\n",
            "227/227 [==============================] - 130s 574ms/step - loss: 4.3514 - accuracy: 0.1073 - val_loss: 4.7674 - val_accuracy: 0.0750\n",
            "Epoch 14/500\n",
            "227/227 [==============================] - 127s 560ms/step - loss: 4.1679 - accuracy: 0.1220 - val_loss: 4.5667 - val_accuracy: 0.0850\n",
            "Epoch 15/500\n",
            "227/227 [==============================] - 132s 580ms/step - loss: 4.0136 - accuracy: 0.1368 - val_loss: 4.6075 - val_accuracy: 0.0906\n",
            "Epoch 16/500\n",
            "227/227 [==============================] - 130s 572ms/step - loss: 3.8474 - accuracy: 0.1507 - val_loss: 4.3693 - val_accuracy: 0.0869\n",
            "Epoch 17/500\n",
            "227/227 [==============================] - 126s 555ms/step - loss: 3.6943 - accuracy: 0.1757 - val_loss: 4.6405 - val_accuracy: 0.0756\n",
            "Epoch 18/500\n",
            "227/227 [==============================] - 126s 556ms/step - loss: 3.5734 - accuracy: 0.1900 - val_loss: 4.2276 - val_accuracy: 0.1194\n",
            "Epoch 19/500\n",
            "227/227 [==============================] - 126s 555ms/step - loss: 3.4382 - accuracy: 0.2132 - val_loss: 4.0254 - val_accuracy: 0.1456\n",
            "Epoch 20/500\n",
            "227/227 [==============================] - 127s 557ms/step - loss: 3.3039 - accuracy: 0.2382 - val_loss: 4.7892 - val_accuracy: 0.0781\n",
            "Epoch 21/500\n",
            "227/227 [==============================] - 127s 558ms/step - loss: 3.1851 - accuracy: 0.2541 - val_loss: 4.0678 - val_accuracy: 0.1538\n",
            "Epoch 22/500\n",
            "227/227 [==============================] - 126s 556ms/step - loss: 3.0550 - accuracy: 0.2793 - val_loss: 4.5897 - val_accuracy: 0.1187\n",
            "Epoch 23/500\n",
            "227/227 [==============================] - 127s 557ms/step - loss: 2.9417 - accuracy: 0.3009 - val_loss: 4.6556 - val_accuracy: 0.0956\n",
            "Epoch 24/500\n",
            "227/227 [==============================] - 127s 560ms/step - loss: 2.8331 - accuracy: 0.3179 - val_loss: 3.7280 - val_accuracy: 0.2044\n",
            "Epoch 25/500\n",
            "227/227 [==============================] - 127s 558ms/step - loss: 2.6777 - accuracy: 0.3495 - val_loss: 3.8259 - val_accuracy: 0.1887\n",
            "Epoch 26/500\n",
            "227/227 [==============================] - 128s 563ms/step - loss: 2.5793 - accuracy: 0.3618 - val_loss: 3.9494 - val_accuracy: 0.1831\n",
            "Epoch 27/500\n",
            "227/227 [==============================] - 127s 561ms/step - loss: 2.4486 - accuracy: 0.3930 - val_loss: 3.7427 - val_accuracy: 0.2306\n",
            "Epoch 28/500\n",
            "227/227 [==============================] - 125s 552ms/step - loss: 2.3634 - accuracy: 0.4090 - val_loss: 3.9307 - val_accuracy: 0.1969\n",
            "Epoch 29/500\n",
            "227/227 [==============================] - 128s 564ms/step - loss: 2.2452 - accuracy: 0.4339 - val_loss: 3.7268 - val_accuracy: 0.2212\n",
            "Epoch 30/500\n",
            "227/227 [==============================] - 128s 563ms/step - loss: 2.1259 - accuracy: 0.4555 - val_loss: 3.5877 - val_accuracy: 0.2681\n",
            "Epoch 31/500\n",
            "227/227 [==============================] - 130s 572ms/step - loss: 2.0260 - accuracy: 0.4763 - val_loss: 3.5671 - val_accuracy: 0.2713\n",
            "Epoch 32/500\n",
            "227/227 [==============================] - 134s 589ms/step - loss: 1.9550 - accuracy: 0.4893 - val_loss: 3.3751 - val_accuracy: 0.2763\n",
            "Epoch 33/500\n",
            "227/227 [==============================] - 133s 586ms/step - loss: 1.8817 - accuracy: 0.5072 - val_loss: 3.2418 - val_accuracy: 0.3131\n",
            "Epoch 34/500\n",
            "227/227 [==============================] - 129s 568ms/step - loss: 1.7904 - accuracy: 0.5295 - val_loss: 3.1849 - val_accuracy: 0.3031\n",
            "Epoch 35/500\n",
            "227/227 [==============================] - 129s 568ms/step - loss: 1.7207 - accuracy: 0.5441 - val_loss: 3.8736 - val_accuracy: 0.2512\n",
            "Epoch 36/500\n",
            "227/227 [==============================] - 129s 569ms/step - loss: 1.6260 - accuracy: 0.5635 - val_loss: 3.7457 - val_accuracy: 0.2362\n",
            "Epoch 37/500\n",
            "227/227 [==============================] - 132s 584ms/step - loss: 1.5561 - accuracy: 0.5803 - val_loss: 3.5807 - val_accuracy: 0.2875\n",
            "Epoch 38/500\n",
            "227/227 [==============================] - 132s 583ms/step - loss: 1.5030 - accuracy: 0.5920 - val_loss: 3.4318 - val_accuracy: 0.2988\n",
            "Epoch 39/500\n",
            "227/227 [==============================] - 128s 563ms/step - loss: 1.4396 - accuracy: 0.6101 - val_loss: 3.9497 - val_accuracy: 0.3000\n",
            "Epoch 40/500\n",
            "227/227 [==============================] - 135s 593ms/step - loss: 1.4058 - accuracy: 0.6161 - val_loss: 3.7918 - val_accuracy: 0.2656\n",
            "Epoch 41/500\n",
            "227/227 [==============================] - 133s 587ms/step - loss: 1.3406 - accuracy: 0.6332 - val_loss: 3.5382 - val_accuracy: 0.3200\n",
            "Epoch 42/500\n",
            "227/227 [==============================] - 132s 579ms/step - loss: 1.2990 - accuracy: 0.6415 - val_loss: 3.4857 - val_accuracy: 0.2975\n",
            "Epoch 43/500\n",
            "227/227 [==============================] - 132s 582ms/step - loss: 1.2251 - accuracy: 0.6631 - val_loss: 3.7680 - val_accuracy: 0.3031\n",
            "Epoch 44/500\n",
            "227/227 [==============================] - 130s 572ms/step - loss: 1.1872 - accuracy: 0.6671 - val_loss: 4.4433 - val_accuracy: 0.2356\n",
            "Epoch 45/500\n",
            "227/227 [==============================] - 131s 576ms/step - loss: 1.1369 - accuracy: 0.6811 - val_loss: 3.5867 - val_accuracy: 0.3262\n",
            "Epoch 46/500\n",
            "227/227 [==============================] - 130s 574ms/step - loss: 1.1036 - accuracy: 0.6907 - val_loss: 3.4930 - val_accuracy: 0.3237\n",
            "Epoch 47/500\n",
            "227/227 [==============================] - 130s 572ms/step - loss: 1.0933 - accuracy: 0.6896 - val_loss: 3.7480 - val_accuracy: 0.2962\n",
            "Epoch 48/500\n",
            "227/227 [==============================] - 129s 570ms/step - loss: 1.0610 - accuracy: 0.7055 - val_loss: 3.5976 - val_accuracy: 0.3100\n",
            "Epoch 49/500\n",
            "227/227 [==============================] - 130s 571ms/step - loss: 1.0316 - accuracy: 0.7068 - val_loss: 3.5351 - val_accuracy: 0.3237\n",
            "Epoch 50/500\n",
            "227/227 [==============================] - 129s 569ms/step - loss: 0.9597 - accuracy: 0.7225 - val_loss: 3.7300 - val_accuracy: 0.2900\n",
            "Epoch 51/500\n",
            "227/227 [==============================] - 130s 572ms/step - loss: 0.9343 - accuracy: 0.7315 - val_loss: 3.8335 - val_accuracy: 0.2962\n",
            "Epoch 52/500\n",
            "227/227 [==============================] - 125s 549ms/step - loss: 0.8711 - accuracy: 0.7472 - val_loss: 3.3626 - val_accuracy: 0.3344\n",
            "Epoch 53/500\n",
            "227/227 [==============================] - 133s 585ms/step - loss: 0.9204 - accuracy: 0.7355 - val_loss: 3.5567 - val_accuracy: 0.3544\n",
            "Epoch 54/500\n",
            "227/227 [==============================] - 137s 602ms/step - loss: 0.8529 - accuracy: 0.7506 - val_loss: 3.6957 - val_accuracy: 0.3187\n",
            "Epoch 55/500\n",
            "227/227 [==============================] - 136s 597ms/step - loss: 0.8107 - accuracy: 0.7649 - val_loss: 4.1932 - val_accuracy: 0.2812\n",
            "Epoch 56/500\n",
            "227/227 [==============================] - 131s 578ms/step - loss: 0.8277 - accuracy: 0.7620 - val_loss: 3.7984 - val_accuracy: 0.3269\n",
            "Epoch 57/500\n",
            "227/227 [==============================] - 129s 566ms/step - loss: 0.7878 - accuracy: 0.7687 - val_loss: 4.0064 - val_accuracy: 0.2856\n",
            "Epoch 58/500\n",
            "227/227 [==============================] - 127s 560ms/step - loss: 0.7997 - accuracy: 0.7703 - val_loss: 3.5023 - val_accuracy: 0.3444\n",
            "Epoch 59/500\n",
            "227/227 [==============================] - 127s 560ms/step - loss: 0.7269 - accuracy: 0.7878 - val_loss: 3.6643 - val_accuracy: 0.3481\n",
            "Epoch 60/500\n",
            "227/227 [==============================] - 127s 559ms/step - loss: 0.7396 - accuracy: 0.7886 - val_loss: 3.7463 - val_accuracy: 0.3363\n",
            "Epoch 61/500\n",
            "227/227 [==============================] - 126s 556ms/step - loss: 0.7249 - accuracy: 0.7864 - val_loss: 4.1164 - val_accuracy: 0.3181\n",
            "Epoch 62/500\n",
            "227/227 [==============================] - 127s 560ms/step - loss: 0.7234 - accuracy: 0.7874 - val_loss: 3.5481 - val_accuracy: 0.3525\n",
            "Epoch 63/500\n",
            "227/227 [==============================] - 127s 561ms/step - loss: 0.6614 - accuracy: 0.8079 - val_loss: 3.8093 - val_accuracy: 0.3363\n",
            "Epoch 64/500\n",
            "227/227 [==============================] - 129s 570ms/step - loss: 0.6700 - accuracy: 0.8016 - val_loss: 5.0021 - val_accuracy: 0.3137\n"
          ]
        }
      ],
      "source": [
        "earlystop_callback = tf.keras.callbacks.EarlyStopping(monitor='val_loss', patience=30) # start_from_epoch=50 Missing feature in ts2.10, available in ts2.11+ # High patience for overfitting analysis\n",
        "\n",
        "\n",
        "cp_callback = tf.keras.callbacks.ModelCheckpoint(\n",
        "       filepath='./weights/cp-{epoch:04d}.ckpt',\n",
        "        save_weights_only=True,\n",
        "        save_freq='epoch')\n",
        "\n",
        "#Sparse is better than normal cross entropy for training performance https://stats.stackexchange.com/questions/326065/cross-entropy-vs-sparse-cross-entropy-when-to-use-one-over-the-other\n",
        "model.compile(optimizer=tf.keras.optimizers.Adam(),loss='sparse_categorical_crossentropy' ,metrics=['accuracy']) \n",
        "\n",
        "history = model.fit(x = cars_train, validation_data = cars_test, epochs = 500, callbacks=[earlystop_callback, tboard_callback, cp_callback], batch_size=batch_size, verbose=1)"
      ]
    },
    {
      "cell_type": "markdown",
      "source": [
        "## Save weights"
      ],
      "metadata": {
        "id": "QhFBFfto39Oh"
      }
    },
    {
      "cell_type": "code",
      "source": [
        "model.save_weights(\"cars_e2e_cnn_model_weights.h5\")"
      ],
      "metadata": {
        "id": "7_3AHXQP38xv"
      },
      "execution_count": null,
      "outputs": []
    },
    {
      "cell_type": "markdown",
      "source": [
        "## Visualize Loss & Accuracy"
      ],
      "metadata": {
        "id": "pWnJAqx31WDR"
      }
    },
    {
      "cell_type": "code",
      "source": [
        "from matplotlib import pyplot as plt\n",
        "plt.plot(history.history['loss'])\n",
        "plt.plot(history.history['val_loss'])\n",
        "plt.title('model loss')\n",
        "plt.ylabel('loss')\n",
        "plt.xlabel('epoch')\n",
        "plt.legend(['train', 'val'], loc='upper left')\n",
        "plt.show()\n",
        "plt.plot(history.history['accuracy'])\n",
        "plt.plot(history.history['val_accuracy'])\n",
        "plt.title('model accuracy')\n",
        "plt.ylabel('accuracy')\n",
        "plt.xlabel('epoch')\n",
        "plt.legend(['train', 'val'], loc='upper left')\n",
        "plt.show()"
      ],
      "metadata": {
        "colab": {
          "base_uri": "https://localhost:8080/",
          "height": 927
        },
        "id": "fzu3bk9-1VWg",
        "outputId": "005003f4-8f34-4eb3-ff40-c33ff773e835"
      },
      "execution_count": null,
      "outputs": [
        {
          "output_type": "display_data",
          "data": {
            "text/plain": [
              "<Figure size 640x480 with 1 Axes>"
            ],
            "image/png": "[encoded data removed]"
          },
          "metadata": {}
        },
        {
          "output_type": "display_data",
          "data": {
            "text/plain": [
              "<Figure size 640x480 with 1 Axes>"
            ],
            "image/png": "[encoded data removed]"
          },
          "metadata": {}
        }
      ]
    },
    {
      "cell_type": "markdown",
      "source": [
        "## Overall Model Results"
      ],
      "metadata": {
        "id": "EG6eM7-S2mCF"
      }
    },
    {
      "cell_type": "code",
      "source": [
        "from sklearn.metrics import accuracy_score, classification_report\n",
        "\n",
        "y_hat = model.predict(cars_test, verbose=1)\n",
        "predicted_class_indices= tf.argmax(y_hat, axis=1).numpy()\n",
        "cars_test_labels = np.concatenate([y for x, y in cars_test], axis=0)\n",
        "print(\"Model accuracy:\", accuracy_score(cars_test_labels, predicted_class_indices))\n",
        "print(\"Classification Report\")\n",
        "print(classification_report(cars_test_labels, predicted_class_indices))"
      ],
      "metadata": {
        "id": "o3KpnZYP2meu",
        "colab": {
          "base_uri": "https://localhost:8080/"
        },
        "outputId": "24b41d81-70b6-4f5a-aaa2-b74c7f67d38b"
      },
      "execution_count": null,
      "outputs": [
        {
          "output_type": "stream",
          "name": "stdout",
          "text": [
            "25/25 [==============================] - 1s 39ms/step\n",
            "Model accuracy: 0.31125\n",
            "Classification Report\n",
            "              precision    recall  f1-score   support\n",
            "\n",
            "           0       1.00      0.20      0.33        10\n",
            "           1       0.12      0.38      0.19         8\n",
            "           2       0.12      0.50      0.19         6\n",
            "           3       0.50      0.44      0.47         9\n",
            "           4       0.00      0.00      0.00         3\n",
            "           5       0.29      0.29      0.29         7\n",
            "           6       0.08      0.17      0.11         6\n",
            "           7       0.11      0.20      0.14        10\n",
            "           8       0.24      0.64      0.35        11\n",
            "           9       0.11      0.40      0.17         5\n",
            "          10       0.62      0.53      0.57        15\n",
            "          11       0.17      0.25      0.20         8\n",
            "          12       0.07      0.60      0.12         5\n",
            "          13       0.00      0.00      0.00        13\n",
            "          14       0.29      0.18      0.22        11\n",
            "          15       0.40      0.22      0.29         9\n",
            "          16       0.29      0.22      0.25         9\n",
            "          17       0.20      0.12      0.15         8\n",
            "          18       0.25      0.11      0.15         9\n",
            "          19       0.15      0.36      0.21        11\n",
            "          20       0.50      0.42      0.45        12\n",
            "          21       0.18      0.25      0.21        12\n",
            "          22       0.06      0.29      0.11         7\n",
            "          23       0.27      0.36      0.31        11\n",
            "          24       1.00      0.40      0.57         5\n",
            "          25       0.33      0.67      0.44         6\n",
            "          26       0.00      0.00      0.00         5\n",
            "          27       0.33      0.09      0.14        11\n",
            "          28       0.29      0.22      0.25         9\n",
            "          29       1.00      0.22      0.36         9\n",
            "          30       0.00      0.00      0.00        10\n",
            "          31       0.80      0.44      0.57         9\n",
            "          32       0.50      0.18      0.27        11\n",
            "          33       0.50      0.20      0.29        10\n",
            "          34       0.67      0.22      0.33         9\n",
            "          35       0.14      0.25      0.18         4\n",
            "          36       0.50      0.33      0.40         6\n",
            "          37       0.67      0.22      0.33         9\n",
            "          38       0.00      0.00      0.00         7\n",
            "          39       0.36      0.62      0.45         8\n",
            "          40       1.00      0.29      0.44         7\n",
            "          41       0.67      0.40      0.50         5\n",
            "          42       0.50      0.08      0.14        12\n",
            "          43       0.80      0.36      0.50        11\n",
            "          44       0.43      0.50      0.46         6\n",
            "          45       0.00      0.00      0.00        13\n",
            "          46       0.27      0.27      0.27        11\n",
            "          47       0.50      0.11      0.18         9\n",
            "          48       0.44      0.40      0.42        10\n",
            "          49       0.20      0.20      0.20         5\n",
            "          50       0.33      0.12      0.18         8\n",
            "          51       0.33      0.14      0.20         7\n",
            "          52       0.27      0.44      0.33         9\n",
            "          53       0.00      0.00      0.00         7\n",
            "          54       0.62      0.56      0.59         9\n",
            "          55       0.20      0.12      0.15         8\n",
            "          56       0.75      0.30      0.43        10\n",
            "          57       0.23      0.27      0.25        11\n",
            "          58       0.67      0.33      0.44         6\n",
            "          59       0.75      0.38      0.50         8\n",
            "          60       0.28      0.42      0.33        12\n",
            "          61       0.43      0.43      0.43         7\n",
            "          62       0.14      0.38      0.21         8\n",
            "          63       0.43      0.33      0.38         9\n",
            "          64       0.33      0.50      0.40        10\n",
            "          65       0.33      0.38      0.35         8\n",
            "          66       0.33      0.38      0.35         8\n",
            "          67       0.45      0.56      0.50         9\n",
            "          68       0.14      0.20      0.17         5\n",
            "          69       1.00      0.38      0.55         8\n",
            "          70       0.00      0.00      0.00         9\n",
            "          71       0.25      0.09      0.13        11\n",
            "          72       0.00      0.00      0.00         9\n",
            "          73       1.00      0.14      0.25         7\n",
            "          74       0.22      0.50      0.31         8\n",
            "          75       1.00      0.25      0.40        12\n",
            "          76       0.27      0.30      0.29        10\n",
            "          77       0.83      0.62      0.71         8\n",
            "          78       0.45      0.36      0.40        14\n",
            "          79       0.80      0.50      0.62         8\n",
            "          80       0.62      0.45      0.53        11\n",
            "          81       0.75      0.27      0.40        11\n",
            "          82       0.43      0.50      0.46         6\n",
            "          83       0.62      0.50      0.56        10\n",
            "          84       0.56      0.56      0.56         9\n",
            "          85       1.00      0.57      0.73         7\n",
            "          86       0.67      0.57      0.62         7\n",
            "          87       0.67      0.50      0.57         8\n",
            "          88       0.12      0.20      0.15         5\n",
            "          89       0.60      0.33      0.43         9\n",
            "          90       0.50      0.22      0.31         9\n",
            "          91       0.00      0.00      0.00         9\n",
            "          92       0.40      0.50      0.44         4\n",
            "          93       0.28      0.50      0.36        10\n",
            "          94       1.00      0.09      0.17        11\n",
            "          95       0.25      0.30      0.27        10\n",
            "          96       0.00      0.00      0.00         1\n",
            "          97       0.50      0.27      0.35        11\n",
            "          98       0.60      0.50      0.55         6\n",
            "          99       0.40      0.40      0.40         5\n",
            "         100       0.20      0.43      0.27         7\n",
            "         101       0.80      0.40      0.53        10\n",
            "         102       0.43      0.38      0.40         8\n",
            "         103       0.50      0.09      0.15        11\n",
            "         104       1.00      0.29      0.44         7\n",
            "         105       1.00      0.43      0.60         7\n",
            "         106       0.40      0.31      0.35        13\n",
            "         107       1.00      0.50      0.67         8\n",
            "         108       0.75      0.86      0.80         7\n",
            "         109       0.40      0.29      0.33         7\n",
            "         110       0.00      0.00      0.00         8\n",
            "         111       0.00      0.00      0.00         8\n",
            "         112       0.50      0.50      0.50        10\n",
            "         113       1.00      0.17      0.29         6\n",
            "         114       0.67      0.33      0.44         6\n",
            "         115       1.00      0.40      0.57         5\n",
            "         116       0.17      0.12      0.14         8\n",
            "         117       0.00      0.00      0.00        13\n",
            "         118       0.50      0.57      0.53        14\n",
            "         119       1.00      0.11      0.20         9\n",
            "         120       0.33      0.18      0.24        11\n",
            "         121       0.33      0.67      0.44         6\n",
            "         122       0.67      0.17      0.27        12\n",
            "         123       0.75      0.43      0.55         7\n",
            "         124       0.71      0.62      0.67         8\n",
            "         125       0.11      0.40      0.17         5\n",
            "         126       0.50      0.20      0.29         5\n",
            "         127       0.00      0.00      0.00         8\n",
            "         128       0.20      0.14      0.17         7\n",
            "         129       0.50      0.17      0.25         6\n",
            "         130       0.56      0.56      0.56         9\n",
            "         131       0.25      0.21      0.23        14\n",
            "         132       0.13      0.57      0.22         7\n",
            "         133       0.44      0.67      0.53         6\n",
            "         134       0.50      0.30      0.37        10\n",
            "         135       0.00      0.00      0.00         3\n",
            "         136       0.40      0.29      0.33         7\n",
            "         137       0.00      0.00      0.00         1\n",
            "         138       1.00      0.27      0.43        11\n",
            "         139       0.10      0.50      0.17         4\n",
            "         140       0.50      0.50      0.50         8\n",
            "         141       0.67      0.33      0.44         6\n",
            "         142       0.67      0.50      0.57         4\n",
            "         143       0.05      0.33      0.09         6\n",
            "         144       0.67      0.29      0.40         7\n",
            "         145       0.75      0.30      0.43        10\n",
            "         146       0.45      0.56      0.50         9\n",
            "         147       0.27      1.00      0.43         3\n",
            "         148       0.24      0.57      0.33         7\n",
            "         149       0.50      0.40      0.44         5\n",
            "         150       0.00      0.00      0.00         5\n",
            "         151       0.71      0.56      0.63         9\n",
            "         152       0.75      0.38      0.50         8\n",
            "         153       0.20      0.36      0.26        11\n",
            "         154       0.50      0.25      0.33         8\n",
            "         155       1.00      0.20      0.33        10\n",
            "         156       0.83      0.42      0.56        12\n",
            "         157       0.00      0.00      0.00         7\n",
            "         158       1.00      0.50      0.67         4\n",
            "         159       0.75      0.33      0.46         9\n",
            "         160       0.50      0.43      0.46         7\n",
            "         161       1.00      0.11      0.20         9\n",
            "         162       0.50      0.40      0.44         5\n",
            "         163       0.19      0.43      0.26         7\n",
            "         164       1.00      0.20      0.33        10\n",
            "         165       0.83      0.45      0.59        11\n",
            "         166       0.07      0.08      0.07        13\n",
            "         167       0.25      0.57      0.35         7\n",
            "         168       0.60      0.75      0.67         4\n",
            "         169       0.14      0.56      0.23         9\n",
            "         170       0.43      0.30      0.35        10\n",
            "         171       0.18      0.29      0.22         7\n",
            "         172       0.07      0.11      0.08         9\n",
            "         173       0.00      0.00      0.00         9\n",
            "         174       0.00      0.00      0.00         4\n",
            "         175       0.33      0.12      0.18         8\n",
            "         176       1.00      0.12      0.22         8\n",
            "         177       0.50      0.40      0.44         5\n",
            "         178       0.50      0.22      0.31         9\n",
            "         179       0.33      0.25      0.29         4\n",
            "         180       0.00      0.00      0.00         5\n",
            "         181       0.11      0.33      0.16         6\n",
            "         182       0.05      0.33      0.09         3\n",
            "         183       0.23      0.38      0.29         8\n",
            "         184       0.25      0.25      0.25         8\n",
            "         185       0.67      0.67      0.67         3\n",
            "         186       0.22      0.50      0.31         8\n",
            "         187       0.20      0.27      0.23        11\n",
            "         188       0.75      0.33      0.46         9\n",
            "         189       0.46      0.67      0.55         9\n",
            "         190       0.25      0.45      0.32        11\n",
            "         191       0.27      0.86      0.41         7\n",
            "         192       0.14      0.20      0.17         5\n",
            "         193       0.67      0.15      0.25        13\n",
            "         194       0.27      0.27      0.27        11\n",
            "         195       1.00      0.14      0.25         7\n",
            "\n",
            "    accuracy                           0.31      1600\n",
            "   macro avg       0.43      0.32      0.32      1600\n",
            "weighted avg       0.44      0.31      0.32      1600\n",
            "\n"
          ]
        },
        {
          "output_type": "stream",
          "name": "stderr",
          "text": [
            "c:\\users\\aofek\\appdata\\local\\programs\\python\\python37\\lib\\site-packages\\sklearn\\metrics\\_classification.py:1318: UndefinedMetricWarning: Precision and F-score are ill-defined and being set to 0.0 in labels with no predicted samples. Use `zero_division` parameter to control this behavior.\n",
            "  _warn_prf(average, modifier, msg_start, len(result))\n",
            "c:\\users\\aofek\\appdata\\local\\programs\\python\\python37\\lib\\site-packages\\sklearn\\metrics\\_classification.py:1318: UndefinedMetricWarning: Precision and F-score are ill-defined and being set to 0.0 in labels with no predicted samples. Use `zero_division` parameter to control this behavior.\n",
            "  _warn_prf(average, modifier, msg_start, len(result))\n",
            "c:\\users\\aofek\\appdata\\local\\programs\\python\\python37\\lib\\site-packages\\sklearn\\metrics\\_classification.py:1318: UndefinedMetricWarning: Precision and F-score are ill-defined and being set to 0.0 in labels with no predicted samples. Use `zero_division` parameter to control this behavior.\n",
            "  _warn_prf(average, modifier, msg_start, len(result))\n"
          ]
        }
      ]
    },
    {
      "cell_type": "markdown",
      "source": [
        "# Test environment"
      ],
      "metadata": {
        "id": "fXGajp3DQUdn"
      }
    },
    {
      "cell_type": "code",
      "source": [
        "import numpy as np\n",
        "import matplotlib.pyplot as plt\n",
        "import pandas as pd\n",
        "import tensorflow as tf\n",
        "import tensorflow_datasets as tfds\n",
        "from keras.utils import load_img\n",
        "from keras.preprocessing import image\n",
        "!pip install -U --no-cache-dir gdown --pre"
      ],
      "metadata": {
        "colab": {
          "base_uri": "https://localhost:8080/"
        },
        "id": "Wu64RcbmQjAh",
        "outputId": "4eaf7d27-4bc4-4a6e-91ce-92c27c728b4a"
      },
      "execution_count": null,
      "outputs": [
        {
          "output_type": "stream",
          "name": "stdout",
          "text": [
            "Looking in indexes: https://pypi.org/simple, https://us-python.pkg.dev/colab-wheels/public/simple/\n",
            "Requirement already satisfied: gdown in /usr/local/lib/python3.9/dist-packages (4.4.0)\n",
            "Collecting gdown\n",
            "  Downloading gdown-4.6.4-py3-none-any.whl (14 kB)\n",
            "Requirement already satisfied: requests[socks] in /usr/local/lib/python3.9/dist-packages (from gdown) (2.25.1)\n",
            "Requirement already satisfied: filelock in /usr/local/lib/python3.9/dist-packages (from gdown) (3.9.0)\n",
            "Requirement already satisfied: tqdm in /usr/local/lib/python3.9/dist-packages (from gdown) (4.65.0)\n",
            "Requirement already satisfied: beautifulsoup4 in /usr/local/lib/python3.9/dist-packages (from gdown) (4.6.3)\n",
            "Requirement already satisfied: six in /usr/local/lib/python3.9/dist-packages (from gdown) (1.15.0)\n",
            "Requirement already satisfied: urllib3<1.27,>=1.21.1 in /usr/local/lib/python3.9/dist-packages (from requests[socks]->gdown) (1.26.14)\n",
            "Requirement already satisfied: certifi>=2017.4.17 in /usr/local/lib/python3.9/dist-packages (from requests[socks]->gdown) (2022.12.7)\n",
            "Requirement already satisfied: idna<3,>=2.5 in /usr/local/lib/python3.9/dist-packages (from requests[socks]->gdown) (2.10)\n",
            "Requirement already satisfied: chardet<5,>=3.0.2 in /usr/local/lib/python3.9/dist-packages (from requests[socks]->gdown) (4.0.0)\n",
            "Requirement already satisfied: PySocks!=1.5.7,>=1.5.6 in /usr/local/lib/python3.9/dist-packages (from requests[socks]->gdown) (1.7.1)\n",
            "Installing collected packages: gdown\n",
            "  Attempting uninstall: gdown\n",
            "    Found existing installation: gdown 4.4.0\n",
            "    Uninstalling gdown-4.4.0:\n",
            "      Successfully uninstalled gdown-4.4.0\n",
            "Successfully installed gdown-4.6.4\n"
          ]
        }
      ]
    },
    {
      "cell_type": "markdown",
      "source": [
        "## Download model weights"
      ],
      "metadata": {
        "id": "nlPkc4MrmSWZ"
      }
    },
    {
      "cell_type": "code",
      "source": [
        "!gdown --id 1faCP54JRAKML0xXZ14IYUeaz_npAa1EW\n",
        "!gdown --id 1DS_5kLbzYYzMWtp1WP3x_hxtRBhroJID"
      ],
      "metadata": {
        "colab": {
          "base_uri": "https://localhost:8080/"
        },
        "id": "y0cb4KjLmW6N",
        "outputId": "4e7ffe37-b623-48ce-bbff-6802fbe84ef9"
      },
      "execution_count": null,
      "outputs": [
        {
          "output_type": "stream",
          "name": "stdout",
          "text": [
            "/usr/local/lib/python3.9/dist-packages/gdown/cli.py:121: FutureWarning: Option `--id` was deprecated in version 4.3.1 and will be removed in 5.0. You don't need to pass it anymore to use a file ID.\n",
            "  warnings.warn(\n",
            "Downloading...\n",
            "From: https://drive.google.com/uc?id=1faCP54JRAKML0xXZ14IYUeaz_npAa1EW\n",
            "To: /content/cars_e2e_cnn_model_weights.h5\n",
            "100% 9.56M/9.56M [00:00<00:00, 124MB/s]\n",
            "/usr/local/lib/python3.9/dist-packages/gdown/cli.py:121: FutureWarning: Option `--id` was deprecated in version 4.3.1 and will be removed in 5.0. You don't need to pass it anymore to use a file ID.\n",
            "  warnings.warn(\n",
            "Downloading...\n",
            "From: https://drive.google.com/uc?id=1DS_5kLbzYYzMWtp1WP3x_hxtRBhroJID\n",
            "To: /content/labels_dic.csv\n",
            "100% 6.14k/6.14k [00:00<00:00, 9.33MB/s]\n"
          ]
        }
      ]
    },
    {
      "cell_type": "markdown",
      "source": [
        "## Get car models labels and names"
      ],
      "metadata": {
        "id": "eqIlaW5hnipg"
      }
    },
    {
      "cell_type": "code",
      "source": [
        "\n",
        "label_dic = pd.read_csv('/content/labels_dic.csv', header=None, dtype={0: str}).set_index(0).squeeze().to_dict()"
      ],
      "metadata": {
        "id": "al_sDn7Dnnv2"
      },
      "execution_count": null,
      "outputs": []
    },
    {
      "cell_type": "markdown",
      "source": [
        "## Build model"
      ],
      "metadata": {
        "id": "X-x4cbheRlSD"
      }
    },
    {
      "cell_type": "markdown",
      "source": [
        "Add new layers to the original model an change the output layer to the new amount of classes"
      ],
      "metadata": {
        "id": "uz4uN_zdRlSD"
      }
    },
    {
      "cell_type": "code",
      "source": [
        "height, width = 256, 256\n",
        "model = tf.keras.Sequential([\n",
        "        tf.keras.layers.Rescaling(1. / 255, input_shape=(height, width, 3)),\n",
        "        tf.keras.layers.RandomFlip(\"horizontal\"), \n",
        "        tf.keras.layers.RandomRotation(0.2), \n",
        "        tf.keras.layers.RandomContrast(0.2), \n",
        "        tf.keras.layers.Conv2D(32, 3, padding='same', activation='relu'),\n",
        "        tf.keras.layers.BatchNormalization(),\n",
        "        tf.keras.layers.MaxPooling2D(),\n",
        "        tf.keras.layers.Conv2D(64, 3, padding='same', activation='relu'),\n",
        "        tf.keras.layers.BatchNormalization(),\n",
        "        tf.keras.layers.MaxPooling2D(),\n",
        "        tf.keras.layers.Conv2D(128, 3, padding='same', activation='relu'),\n",
        "        tf.keras.layers.BatchNormalization(),\n",
        "        tf.keras.layers.MaxPooling2D(),\n",
        "        tf.keras.layers.Conv2D(256, 3, padding='same', activation='relu'),\n",
        "        tf.keras.layers.BatchNormalization(),\n",
        "        tf.keras.layers.MaxPooling2D(),\n",
        "        tf.keras.layers.Conv2D(256, 3, padding='same', activation='relu'),\n",
        "        tf.keras.layers.BatchNormalization(),\n",
        "        tf.keras.layers.MaxPooling2D(),\n",
        "        tf.keras.layers.Conv2D(256, 3, padding='same', activation='relu'), \n",
        "        tf.keras.layers.BatchNormalization(),\n",
        "        tf.keras.layers.MaxPooling2D(),\n",
        "        tf.keras.layers.Flatten(),\n",
        "        tf.keras.layers.Dropout(0.5), \n",
        "        tf.keras.layers.Dense(196, activation='softmax', dtype='float32') # Force datatype to be 32 due to enabling mixed precision (Nvidia AXP)\n",
        "    ])"
      ],
      "metadata": {
        "id": "13nKePj1RlSD",
        "execution": {
          "iopub.status.busy": "2023-03-11T09:47:51.005057Z",
          "iopub.execute_input": "2023-03-11T09:47:51.005423Z",
          "iopub.status.idle": "2023-03-11T09:47:52.956854Z",
          "shell.execute_reply.started": "2023-03-11T09:47:51.005390Z",
          "shell.execute_reply": "2023-03-11T09:47:52.955827Z"
        },
        "trusted": true,
        "colab": {
          "base_uri": "https://localhost:8080/"
        },
        "outputId": "54e0d69f-4e33-443f-a84d-c0c70bd6f90f"
      },
      "execution_count": null,
      "outputs": [
        {
          "output_type": "stream",
          "name": "stderr",
          "text": [
            "WARNING:tensorflow:Using a while_loop for converting RngReadAndSkip cause there is no registered converter for this op.\n",
            "WARNING:tensorflow:Using a while_loop for converting Bitcast cause there is no registered converter for this op.\n",
            "WARNING:tensorflow:Using a while_loop for converting Bitcast cause there is no registered converter for this op.\n",
            "WARNING:tensorflow:Using a while_loop for converting StatelessRandomUniformV2 cause there is no registered converter for this op.\n",
            "WARNING:tensorflow:Using a while_loop for converting ImageProjectiveTransformV3 cause there is no registered converter for this op.\n",
            "WARNING:tensorflow:Using a while_loop for converting RngReadAndSkip cause there is no registered converter for this op.\n",
            "WARNING:tensorflow:Using a while_loop for converting Bitcast cause there is no registered converter for this op.\n",
            "WARNING:tensorflow:Using a while_loop for converting Bitcast cause there is no registered converter for this op.\n",
            "WARNING:tensorflow:Using a while_loop for converting StatelessRandomUniformFullIntV2 cause there is no registered converter for this op.\n",
            "WARNING:tensorflow:Using a while_loop for converting StatelessRandomGetKeyCounter cause there is no registered converter for this op.\n",
            "WARNING:tensorflow:Using a while_loop for converting StatelessRandomUniformV2 cause there is no registered converter for this op.\n"
          ]
        }
      ]
    },
    {
      "cell_type": "markdown",
      "source": [
        "## Load Model weights"
      ],
      "metadata": {
        "id": "ajwPkQDGjUiL"
      }
    },
    {
      "cell_type": "code",
      "source": [
        "loaded_model = model.load_weights('/content/cars_e2e_cnn_model_weights.h5')"
      ],
      "metadata": {
        "id": "s31PsnfmkKyt",
        "execution": {
          "iopub.status.busy": "2023-03-11T09:48:05.260818Z",
          "iopub.execute_input": "2023-03-11T09:48:05.261513Z",
          "iopub.status.idle": "2023-03-11T09:48:05.527177Z",
          "shell.execute_reply.started": "2023-03-11T09:48:05.261478Z",
          "shell.execute_reply": "2023-03-11T09:48:05.526145Z"
        },
        "trusted": true
      },
      "execution_count": null,
      "outputs": []
    },
    {
      "cell_type": "markdown",
      "source": [
        "## Upload 224x224x3 image"
      ],
      "metadata": {
        "id": "a6SxmZNCQUdn"
      }
    },
    {
      "cell_type": "code",
      "source": [
        "from google.colab import files\n",
        "\n",
        "test_image = files.upload()"
      ],
      "metadata": {
        "id": "4GhIcMAZQUdn",
        "execution": {
          "iopub.status.busy": "2023-03-11T09:48:12.734995Z",
          "iopub.execute_input": "2023-03-11T09:48:12.735378Z",
          "iopub.status.idle": "2023-03-11T09:48:12.762210Z",
          "shell.execute_reply.started": "2023-03-11T09:48:12.735347Z",
          "shell.execute_reply": "2023-03-11T09:48:12.760849Z"
        },
        "trusted": true,
        "colab": {
          "base_uri": "https://localhost:8080/",
          "height": 73
        },
        "outputId": "47b7263d-f8d7-4508-d82c-0e5bc6ba0100"
      },
      "execution_count": null,
      "outputs": [
        {
          "output_type": "display_data",
          "data": {
            "text/plain": [
              "<IPython.core.display.HTML object>"
            ],
            "text/html": [
              "\n",
              "     <input type=\"file\" id=\"files-2efb8243-36c3-43a7-a46c-de48fa105d2c\" name=\"files[]\" multiple disabled\n",
              "        style=\"border:none\" />\n",
              "     <output id=\"result-2efb8243-36c3-43a7-a46c-de48fa105d2c\">\n",
              "      Upload widget is only available when the cell has been executed in the\n",
              "      current browser session. Please rerun this cell to enable.\n",
              "      </output>\n",
              "      <script>// Copyright 2017 Google LLC\n",
              "//\n",
              "// Licensed under the Apache License, Version 2.0 (the \"License\");\n",
              "// you may not use this file except in compliance with the License.\n",
              "// You may obtain a copy of the License at\n",
              "//\n",
              "//      http://www.apache.org/licenses/LICENSE-2.0\n",
              "//\n",
              "// Unless required by applicable law or agreed to in writing, software\n",
              "// distributed under the License is distributed on an \"AS IS\" BASIS,\n",
              "// WITHOUT WARRANTIES OR CONDITIONS OF ANY KIND, either express or implied.\n",
              "// See the License for the specific language governing permissions and\n",
              "// limitations under the License.\n",
              "\n",
              "/**\n",
              " * @fileoverview Helpers for google.colab Python module.\n",
              " */\n",
              "(function(scope) {\n",
              "function span(text, styleAttributes = {}) {\n",
              "  const element = document.createElement('span');\n",
              "  element.textContent = text;\n",
              "  for (const key of Object.keys(styleAttributes)) {\n",
              "    element.style[key] = styleAttributes[key];\n",
              "  }\n",
              "  return element;\n",
              "}\n",
              "\n",
              "// Max number of bytes which will be uploaded at a time.\n",
              "const MAX_PAYLOAD_SIZE = 100 * 1024;\n",
              "\n",
              "function _uploadFiles(inputId, outputId) {\n",
              "  const steps = uploadFilesStep(inputId, outputId);\n",
              "  const outputElement = document.getElementById(outputId);\n",
              "  // Cache steps on the outputElement to make it available for the next call\n",
              "  // to uploadFilesContinue from Python.\n",
              "  outputElement.steps = steps;\n",
              "\n",
              "  return _uploadFilesContinue(outputId);\n",
              "}\n",
              "\n",
              "// This is roughly an async generator (not supported in the browser yet),\n",
              "// where there are multiple asynchronous steps and the Python side is going\n",
              "// to poll for completion of each step.\n",
              "// This uses a Promise to block the python side on completion of each step,\n",
              "// then passes the result of the previous step as the input to the next step.\n",
              "function _uploadFilesContinue(outputId) {\n",
              "  const outputElement = document.getElementById(outputId);\n",
              "  const steps = outputElement.steps;\n",
              "\n",
              "  const next = steps.next(outputElement.lastPromiseValue);\n",
              "  return Promise.resolve(next.value.promise).then((value) => {\n",
              "    // Cache the last promise value to make it available to the next\n",
              "    // step of the generator.\n",
              "    outputElement.lastPromiseValue = value;\n",
              "    return next.value.response;\n",
              "  });\n",
              "}\n",
              "\n",
              "/**\n",
              " * Generator function which is called between each async step of the upload\n",
              " * process.\n",
              " * @param {string} inputId Element ID of the input file picker element.\n",
              " * @param {string} outputId Element ID of the output display.\n",
              " * @return {!Iterable<!Object>} Iterable of next steps.\n",
              " */\n",
              "function* uploadFilesStep(inputId, outputId) {\n",
              "  const inputElement = document.getElementById(inputId);\n",
              "  inputElement.disabled = false;\n",
              "\n",
              "  const outputElement = document.getElementById(outputId);\n",
              "  outputElement.innerHTML = '';\n",
              "\n",
              "  const pickedPromise = new Promise((resolve) => {\n",
              "    inputElement.addEventListener('change', (e) => {\n",
              "      resolve(e.target.files);\n",
              "    });\n",
              "  });\n",
              "\n",
              "  const cancel = document.createElement('button');\n",
              "  inputElement.parentElement.appendChild(cancel);\n",
              "  cancel.textContent = 'Cancel upload';\n",
              "  const cancelPromise = new Promise((resolve) => {\n",
              "    cancel.onclick = () => {\n",
              "      resolve(null);\n",
              "    };\n",
              "  });\n",
              "\n",
              "  // Wait for the user to pick the files.\n",
              "  const files = yield {\n",
              "    promise: Promise.race([pickedPromise, cancelPromise]),\n",
              "    response: {\n",
              "      action: 'starting',\n",
              "    }\n",
              "  };\n",
              "\n",
              "  cancel.remove();\n",
              "\n",
              "  // Disable the input element since further picks are not allowed.\n",
              "  inputElement.disabled = true;\n",
              "\n",
              "  if (!files) {\n",
              "    return {\n",
              "      response: {\n",
              "        action: 'complete',\n",
              "      }\n",
              "    };\n",
              "  }\n",
              "\n",
              "  for (const file of files) {\n",
              "    const li = document.createElement('li');\n",
              "    li.append(span(file.name, {fontWeight: 'bold'}));\n",
              "    li.append(span(\n",
              "        `(${file.type || 'n/a'}) - ${file.size} bytes, ` +\n",
              "        `last modified: ${\n",
              "            file.lastModifiedDate ? file.lastModifiedDate.toLocaleDateString() :\n",
              "                                    'n/a'} - `));\n",
              "    const percent = span('0% done');\n",
              "    li.appendChild(percent);\n",
              "\n",
              "    outputElement.appendChild(li);\n",
              "\n",
              "    const fileDataPromise = new Promise((resolve) => {\n",
              "      const reader = new FileReader();\n",
              "      reader.onload = (e) => {\n",
              "        resolve(e.target.result);\n",
              "      };\n",
              "      reader.readAsArrayBuffer(file);\n",
              "    });\n",
              "    // Wait for the data to be ready.\n",
              "    let fileData = yield {\n",
              "      promise: fileDataPromise,\n",
              "      response: {\n",
              "        action: 'continue',\n",
              "      }\n",
              "    };\n",
              "\n",
              "    // Use a chunked sending to avoid message size limits. See b/62115660.\n",
              "    let position = 0;\n",
              "    do {\n",
              "      const length = Math.min(fileData.byteLength - position, MAX_PAYLOAD_SIZE);\n",
              "      const chunk = new Uint8Array(fileData, position, length);\n",
              "      position += length;\n",
              "\n",
              "      const base64 = btoa(String.fromCharCode.apply(null, chunk));\n",
              "      yield {\n",
              "        response: {\n",
              "          action: 'append',\n",
              "          file: file.name,\n",
              "          data: base64,\n",
              "        },\n",
              "      };\n",
              "\n",
              "      let percentDone = fileData.byteLength === 0 ?\n",
              "          100 :\n",
              "          Math.round((position / fileData.byteLength) * 100);\n",
              "      percent.textContent = `${percentDone}% done`;\n",
              "\n",
              "    } while (position < fileData.byteLength);\n",
              "  }\n",
              "\n",
              "  // All done.\n",
              "  yield {\n",
              "    response: {\n",
              "      action: 'complete',\n",
              "    }\n",
              "  };\n",
              "}\n",
              "\n",
              "scope.google = scope.google || {};\n",
              "scope.google.colab = scope.google.colab || {};\n",
              "scope.google.colab._files = {\n",
              "  _uploadFiles,\n",
              "  _uploadFilesContinue,\n",
              "};\n",
              "})(self);\n",
              "</script> "
            ]
          },
          "metadata": {}
        },
        {
          "output_type": "stream",
          "name": "stdout",
          "text": [
            "Saving serve_image.png to serve_image.png\n"
          ]
        }
      ]
    },
    {
      "cell_type": "markdown",
      "source": [
        "## Predirct car type"
      ],
      "metadata": {
        "id": "NhIHmwFVQUdn"
      }
    },
    {
      "cell_type": "code",
      "source": [
        "import cv2\n",
        "from google.colab.patches import cv2_imshow\n",
        "from PIL import Image\n",
        "\n",
        "with Image.open ('/content/' + str(list(test_image.keys())[0])) as im:\n",
        "    im.show()\n",
        "\n",
        "img = cv2.imread('/content/' + str(list(test_image.keys())[0]))\n",
        "img = cv2.resize(img,(height, width))\n",
        "img = np.reshape(img,[1,height, width,3])\n",
        "result = np.argmax(model.predict(img))\n",
        "\n",
        "print(\"predicted class: \" + str(result))\n",
        "\n",
        "print(label_dic.get(str(result)))"
      ],
      "metadata": {
        "id": "eb7XHfI4QUdn",
        "execution": {
          "iopub.status.busy": "2023-03-11T08:21:01.179384Z",
          "iopub.status.idle": "2023-03-11T08:21:01.179918Z",
          "shell.execute_reply.started": "2023-03-11T08:21:01.179656Z",
          "shell.execute_reply": "2023-03-11T08:21:01.179682Z"
        },
        "trusted": true,
        "colab": {
          "base_uri": "https://localhost:8080/",
          "height": 395
        },
        "outputId": "16f02a64-d11c-4f24-f542-ebcb401fd7ca"
      },
      "execution_count": null,
      "outputs": [
        {
          "output_type": "display_data",
          "data": {
            "text/plain": [
              "<PIL.JpegImagePlugin.JpegImageFile image mode=RGB size=434x326 at 0x7FF88463C670>"
            ],
            "image/png": "[encoded data removed]"
          },
          "metadata": {}
        },
        {
          "output_type": "stream",
          "name": "stdout",
          "text": [
            "1/1 [==============================] - 0s 22ms/step\n",
            "predicted class: 82\n",
            "Dodge Caliber Wagon 2012\n"
          ]
        }
      ]
    }
  ],
  "metadata": {
    "accelerator": "GPU",
    "colab": {
      "machine_shape": "hm",
      "provenance": [],
      "toc_visible": true,
      "include_colab_link": true
    },
    "gpuClass": "standard",
    "kernelspec": {
      "display_name": "Python 3",
      "name": "python3"
    },
    "language_info": {
      "name": "python"
    }
  },
  "nbformat": 4,
  "nbformat_minor": 0
}